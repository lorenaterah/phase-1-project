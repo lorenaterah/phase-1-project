{
 "cells": [
  {
   "cell_type": "code",
   "execution_count": 1,
   "id": "b9a2dd8b",
   "metadata": {},
   "outputs": [],
   "source": [
    "import pandas as pd\n",
    "import numpy as np\n",
    "import matplotlib.pyplot as plt\n",
    "import seaborn as sns"
   ]
  },
  {
   "cell_type": "code",
   "execution_count": 2,
   "id": "72d0027a",
   "metadata": {},
   "outputs": [
    {
     "name": "stdout",
     "output_type": "stream",
     "text": [
      "<class 'pandas.core.frame.DataFrame'>\n",
      "RangeIndex: 23967 entries, 0 to 23966\n",
      "Data columns (total 9 columns):\n",
      " #   Column        Non-Null Count  Dtype \n",
      "---  ------        --------------  ----- \n",
      " 0   date          23967 non-null  object\n",
      " 1   type          23967 non-null  object\n",
      " 2   registration  22419 non-null  object\n",
      " 3   operator      23963 non-null  object\n",
      " 4   fatalities    20029 non-null  object\n",
      " 5   location      23019 non-null  object\n",
      " 6   country       23967 non-null  object\n",
      " 7   cat           23967 non-null  object\n",
      " 8   year          23967 non-null  object\n",
      "dtypes: object(9)\n",
      "memory usage: 1.6+ MB\n"
     ]
    }
   ],
   "source": [
    "df = pd.read_csv('./Data/aviation-accident-data-2023-05-16.csv')\n",
    "df.info()"
   ]
  },
  {
   "cell_type": "code",
   "execution_count": 3,
   "id": "96640a16",
   "metadata": {},
   "outputs": [],
   "source": [
    "df.rename(columns={'cat': 'accident_category'}, inplace=True)"
   ]
  },
  {
   "cell_type": "code",
   "execution_count": 4,
   "id": "c5154d9a",
   "metadata": {},
   "outputs": [],
   "source": [
    "df.duplicated().sum()   \n",
    "df.drop_duplicates(inplace=True)"
   ]
  },
  {
   "cell_type": "code",
   "execution_count": 5,
   "id": "fc776727",
   "metadata": {},
   "outputs": [],
   "source": [
    "df['aircraft_fatalities'] = df['fatalities'].apply(\n",
    "    lambda x: int(str(x).split('+')[0].strip()) \n",
    "    if isinstance(x, str) and '+' in x and str(x).split('+')[0].strip().isdigit()\n",
    "    else int(x) if str(x).isdigit()\n",
    "    else np.nan\n",
    ")"
   ]
  },
  {
   "cell_type": "code",
   "execution_count": 6,
   "id": "46962e1b",
   "metadata": {},
   "outputs": [],
   "source": [
    "df['ground_fatalities'] = df['fatalities'].apply(\n",
    "    lambda x: int(str(x).split('+')[1].strip()) \n",
    "    if isinstance(x, str) and '+' in x and str(x).split('+')[1].strip().isdigit()\n",
    "    else 0 if str(x).isdigit()\n",
    "    else np.nan\n",
    ")"
   ]
  },
  {
   "cell_type": "code",
   "execution_count": 7,
   "id": "72ceda61",
   "metadata": {},
   "outputs": [],
   "source": [
    "df.rename(columns={'fatalities': 'total_fatalities'}, inplace=True)\n",
    "df['total_fatalities'] = df['total_fatalities'].apply(\n",
    "    lambda x: sum(int(part.strip()) for part in str(x).split('+')) \n",
    "    if isinstance(x, str) and '+' in x \n",
    "    else int(x) if str(x).isdigit() \n",
    "    else x\n",
    ")"
   ]
  },
  {
   "cell_type": "code",
   "execution_count": 8,
   "id": "992ac3db",
   "metadata": {},
   "outputs": [
    {
     "data": {
      "text/plain": [
       "0.0      10705\n",
       "2.0       1136\n",
       "1.0       1061\n",
       "3.0        992\n",
       "4.0        891\n",
       "         ...  \n",
       "124.0        1\n",
       "188.0        1\n",
       "166.0        1\n",
       "149.0        1\n",
       "181.0        1\n",
       "Name: total_fatalities, Length: 203, dtype: int64"
      ]
     },
     "execution_count": 8,
     "metadata": {},
     "output_type": "execute_result"
    }
   ],
   "source": [
    "df['total_fatalities'].value_counts()"
   ]
  },
  {
   "cell_type": "code",
   "execution_count": 9,
   "id": "79387b9d",
   "metadata": {},
   "outputs": [
    {
     "data": {
      "text/plain": [
       "date                      0\n",
       "type                      0\n",
       "registration           1434\n",
       "operator                  4\n",
       "total_fatalities       3833\n",
       "location                932\n",
       "country                   0\n",
       "accident_category         0\n",
       "year                      0\n",
       "aircraft_fatalities    3833\n",
       "ground_fatalities      3833\n",
       "dtype: int64"
      ]
     },
     "execution_count": 9,
     "metadata": {},
     "output_type": "execute_result"
    }
   ],
   "source": [
    "df.isna().sum()"
   ]
  },
  {
   "cell_type": "code",
   "execution_count": 10,
   "id": "bf6ff7b9",
   "metadata": {},
   "outputs": [
    {
     "name": "stdout",
     "output_type": "stream",
     "text": [
      "<class 'pandas.core.frame.DataFrame'>\n",
      "Int64Index: 23852 entries, 0 to 23966\n",
      "Data columns (total 11 columns):\n",
      " #   Column               Non-Null Count  Dtype  \n",
      "---  ------               --------------  -----  \n",
      " 0   date                 23852 non-null  object \n",
      " 1   type                 23852 non-null  object \n",
      " 2   registration         22418 non-null  object \n",
      " 3   operator             23848 non-null  object \n",
      " 4   total_fatalities     20019 non-null  float64\n",
      " 5   location             22920 non-null  object \n",
      " 6   country              23852 non-null  object \n",
      " 7   accident_category    23852 non-null  object \n",
      " 8   year                 23852 non-null  object \n",
      " 9   aircraft_fatalities  20019 non-null  float64\n",
      " 10  ground_fatalities    20019 non-null  float64\n",
      "dtypes: float64(3), object(8)\n",
      "memory usage: 2.2+ MB\n"
     ]
    }
   ],
   "source": [
    "df.info()"
   ]
  },
  {
   "cell_type": "code",
   "execution_count": 11,
   "id": "43355ca1",
   "metadata": {},
   "outputs": [],
   "source": [
    "#if df has more than 3 rows with missing values, drop the rows\n",
    "df = df[df.isna().sum(axis=1) <= 3]"
   ]
  },
  {
   "cell_type": "code",
   "execution_count": 12,
   "id": "c3f98c0a",
   "metadata": {},
   "outputs": [
    {
     "name": "stdout",
     "output_type": "stream",
     "text": [
      "<class 'pandas.core.frame.DataFrame'>\n",
      "Int64Index: 22946 entries, 4 to 23966\n",
      "Data columns (total 11 columns):\n",
      " #   Column               Non-Null Count  Dtype  \n",
      "---  ------               --------------  -----  \n",
      " 0   date                 22946 non-null  object \n",
      " 1   type                 22946 non-null  object \n",
      " 2   registration         21682 non-null  object \n",
      " 3   operator             22943 non-null  object \n",
      " 4   total_fatalities     20019 non-null  float64\n",
      " 5   location             22780 non-null  object \n",
      " 6   country              22946 non-null  object \n",
      " 7   accident_category    22946 non-null  object \n",
      " 8   year                 22946 non-null  object \n",
      " 9   aircraft_fatalities  20019 non-null  float64\n",
      " 10  ground_fatalities    20019 non-null  float64\n",
      "dtypes: float64(3), object(8)\n",
      "memory usage: 2.1+ MB\n"
     ]
    }
   ],
   "source": [
    "df.info()"
   ]
  },
  {
   "cell_type": "code",
   "execution_count": 13,
   "id": "75832c79",
   "metadata": {},
   "outputs": [
    {
     "data": {
      "text/plain": [
       "date                      0\n",
       "type                      0\n",
       "registration           1264\n",
       "operator                  3\n",
       "total_fatalities       2927\n",
       "location                166\n",
       "country                   0\n",
       "accident_category         0\n",
       "year                      0\n",
       "aircraft_fatalities    2927\n",
       "ground_fatalities      2927\n",
       "dtype: int64"
      ]
     },
     "execution_count": 13,
     "metadata": {},
     "output_type": "execute_result"
    }
   ],
   "source": [
    "df.isna().sum()"
   ]
  },
  {
   "cell_type": "code",
   "execution_count": 14,
   "id": "fd6dcaf8",
   "metadata": {},
   "outputs": [],
   "source": [
    "df['total_fatalities'].fillna(df['total_fatalities'].median(), inplace=True)\n",
    "df['aircraft_fatalities'].fillna(df['aircraft_fatalities'].median(), inplace=True)\n",
    "df['ground_fatalities'].fillna(df['ground_fatalities'].median(), inplace=True)"
   ]
  },
  {
   "cell_type": "code",
   "execution_count": 15,
   "id": "1918468c",
   "metadata": {},
   "outputs": [
    {
     "data": {
      "text/plain": [
       "date                      0\n",
       "type                      0\n",
       "registration           1264\n",
       "operator                  3\n",
       "total_fatalities          0\n",
       "location                166\n",
       "country                   0\n",
       "accident_category         0\n",
       "year                      0\n",
       "aircraft_fatalities       0\n",
       "ground_fatalities         0\n",
       "dtype: int64"
      ]
     },
     "execution_count": 15,
     "metadata": {},
     "output_type": "execute_result"
    }
   ],
   "source": [
    "df.isna().sum()"
   ]
  },
  {
   "cell_type": "code",
   "execution_count": 16,
   "id": "bbe848f6",
   "metadata": {},
   "outputs": [
    {
     "name": "stdout",
     "output_type": "stream",
     "text": [
      "<class 'pandas.core.frame.DataFrame'>\n",
      "Int64Index: 22946 entries, 4 to 23966\n",
      "Data columns (total 11 columns):\n",
      " #   Column               Non-Null Count  Dtype         \n",
      "---  ------               --------------  -----         \n",
      " 0   date                 22581 non-null  datetime64[ns]\n",
      " 1   type                 22946 non-null  object        \n",
      " 2   registration         21682 non-null  object        \n",
      " 3   operator             22943 non-null  object        \n",
      " 4   total_fatalities     22946 non-null  float64       \n",
      " 5   location             22780 non-null  object        \n",
      " 6   country              22946 non-null  object        \n",
      " 7   accident_category    22946 non-null  object        \n",
      " 8   year                 22907 non-null  datetime64[ns]\n",
      " 9   aircraft_fatalities  22946 non-null  float64       \n",
      " 10  ground_fatalities    22946 non-null  float64       \n",
      "dtypes: datetime64[ns](2), float64(3), object(6)\n",
      "memory usage: 2.1+ MB\n"
     ]
    }
   ],
   "source": [
    "df['date'] = pd.to_datetime(df['date'], errors='coerce')\n",
    "df['year'] = pd.to_datetime(df['year'], errors='coerce')\n",
    "df.info()"
   ]
  },
  {
   "cell_type": "code",
   "execution_count": 17,
   "id": "381132e6",
   "metadata": {},
   "outputs": [
    {
     "name": "stdout",
     "output_type": "stream",
     "text": [
      "<class 'pandas.core.frame.DataFrame'>\n",
      "Int64Index: 22581 entries, 61 to 23966\n",
      "Data columns (total 11 columns):\n",
      " #   Column               Non-Null Count  Dtype         \n",
      "---  ------               --------------  -----         \n",
      " 0   date                 22581 non-null  datetime64[ns]\n",
      " 1   type                 22581 non-null  object        \n",
      " 2   registration         21327 non-null  object        \n",
      " 3   operator             22578 non-null  object        \n",
      " 4   total_fatalities     22581 non-null  float64       \n",
      " 5   location             22444 non-null  object        \n",
      " 6   country              22581 non-null  object        \n",
      " 7   accident_category    22581 non-null  object        \n",
      " 8   year                 22581 non-null  datetime64[ns]\n",
      " 9   aircraft_fatalities  22581 non-null  float64       \n",
      " 10  ground_fatalities    22581 non-null  float64       \n",
      "dtypes: datetime64[ns](2), float64(3), object(6)\n",
      "memory usage: 2.1+ MB\n"
     ]
    }
   ],
   "source": [
    "df.dropna(subset=['date', 'year'], inplace=True)\n",
    "df.info()"
   ]
  },
  {
   "cell_type": "code",
   "execution_count": 18,
   "id": "71b3de4d",
   "metadata": {},
   "outputs": [
    {
     "data": {
      "text/plain": [
       "date                      0\n",
       "type                      0\n",
       "registration           1254\n",
       "operator                  3\n",
       "total_fatalities          0\n",
       "location                137\n",
       "country                   0\n",
       "accident_category         0\n",
       "year                      0\n",
       "aircraft_fatalities       0\n",
       "ground_fatalities         0\n",
       "dtype: int64"
      ]
     },
     "execution_count": 18,
     "metadata": {},
     "output_type": "execute_result"
    }
   ],
   "source": [
    "df.isna().sum()"
   ]
  },
  {
   "cell_type": "code",
   "execution_count": 19,
   "id": "7d9aeb03",
   "metadata": {},
   "outputs": [],
   "source": [
    "df['registration'].fillna('Unknown', inplace= True)\n",
    "df['location'].fillna('Unknown location', inplace= True)\n",
    "df['operator'].fillna('Unknown', inplace= True)\n"
   ]
  },
  {
   "cell_type": "code",
   "execution_count": 20,
   "id": "e5161fbd",
   "metadata": {},
   "outputs": [
    {
     "data": {
      "text/plain": [
       "date                   0\n",
       "type                   0\n",
       "registration           0\n",
       "operator               0\n",
       "total_fatalities       0\n",
       "location               0\n",
       "country                0\n",
       "accident_category      0\n",
       "year                   0\n",
       "aircraft_fatalities    0\n",
       "ground_fatalities      0\n",
       "dtype: int64"
      ]
     },
     "execution_count": 20,
     "metadata": {},
     "output_type": "execute_result"
    }
   ],
   "source": [
    "df.isna().sum()"
   ]
  },
  {
   "cell_type": "code",
   "execution_count": 21,
   "id": "87029116",
   "metadata": {},
   "outputs": [],
   "source": [
    "#convert total_fatalities, ground_fatalities and aircraft_fatalities to int\n",
    "df['total_fatalities'] = df['total_fatalities'].astype(int)\n",
    "df['ground_fatalities'] = df['ground_fatalities'].astype(int)\n",
    "df['aircraft_fatalities'] = df['aircraft_fatalities'].astype(int)"
   ]
  },
  {
   "cell_type": "code",
   "execution_count": 22,
   "id": "47d0d1f9",
   "metadata": {},
   "outputs": [
    {
     "name": "stdout",
     "output_type": "stream",
     "text": [
      "<class 'pandas.core.frame.DataFrame'>\n",
      "Int64Index: 22581 entries, 61 to 23966\n",
      "Data columns (total 11 columns):\n",
      " #   Column               Non-Null Count  Dtype         \n",
      "---  ------               --------------  -----         \n",
      " 0   date                 22581 non-null  datetime64[ns]\n",
      " 1   type                 22581 non-null  object        \n",
      " 2   registration         22581 non-null  object        \n",
      " 3   operator             22581 non-null  object        \n",
      " 4   total_fatalities     22581 non-null  int32         \n",
      " 5   location             22581 non-null  object        \n",
      " 6   country              22581 non-null  object        \n",
      " 7   accident_category    22581 non-null  object        \n",
      " 8   year                 22581 non-null  datetime64[ns]\n",
      " 9   aircraft_fatalities  22581 non-null  int32         \n",
      " 10  ground_fatalities    22581 non-null  int32         \n",
      "dtypes: datetime64[ns](2), int32(3), object(6)\n",
      "memory usage: 1.8+ MB\n"
     ]
    }
   ],
   "source": [
    "df.info()"
   ]
  },
  {
   "cell_type": "code",
   "execution_count": 23,
   "id": "e8da11ea",
   "metadata": {},
   "outputs": [
    {
     "data": {
      "text/plain": [
       "date                   0\n",
       "type                   0\n",
       "registration           0\n",
       "operator               0\n",
       "total_fatalities       0\n",
       "location               0\n",
       "country                0\n",
       "accident_category      0\n",
       "year                   0\n",
       "aircraft_fatalities    0\n",
       "ground_fatalities      0\n",
       "dtype: int64"
      ]
     },
     "execution_count": 23,
     "metadata": {},
     "output_type": "execute_result"
    }
   ],
   "source": [
    "df.isna().sum()"
   ]
  },
  {
   "cell_type": "code",
   "execution_count": 24,
   "id": "ff1cbecd",
   "metadata": {},
   "outputs": [
    {
     "data": {
      "text/plain": [
       "0"
      ]
     },
     "execution_count": 24,
     "metadata": {},
     "output_type": "execute_result"
    }
   ],
   "source": [
    "df.duplicated().sum()"
   ]
  },
  {
   "cell_type": "code",
   "execution_count": 25,
   "id": "1b72ff79",
   "metadata": {},
   "outputs": [],
   "source": [
    "df.to_csv('./Data/cleaned_aviation_data.csv', index=False)"
   ]
  }
 ],
 "metadata": {
  "kernelspec": {
   "display_name": "learn-env",
   "language": "python",
   "name": "python3"
  },
  "language_info": {
   "codemirror_mode": {
    "name": "ipython",
    "version": 3
   },
   "file_extension": ".py",
   "mimetype": "text/x-python",
   "name": "python",
   "nbconvert_exporter": "python",
   "pygments_lexer": "ipython3",
   "version": "3.8.5"
  }
 },
 "nbformat": 4,
 "nbformat_minor": 5
}
