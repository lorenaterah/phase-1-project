{
 "cells": [
  {
   "cell_type": "code",
   "execution_count": 2,
   "id": "b9a2dd8b",
   "metadata": {},
   "outputs": [],
   "source": [
    "import pandas as pd\n",
    "import numpy as np\n",
    "import matplotlib.pyplot as plt\n",
    "import seaborn as sns"
   ]
  },
  {
   "cell_type": "code",
   "execution_count": 3,
   "id": "72d0027a",
   "metadata": {},
   "outputs": [
    {
     "name": "stdout",
     "output_type": "stream",
     "text": [
      "<class 'pandas.core.frame.DataFrame'>\n",
      "RangeIndex: 23967 entries, 0 to 23966\n",
      "Data columns (total 9 columns):\n",
      " #   Column        Non-Null Count  Dtype \n",
      "---  ------        --------------  ----- \n",
      " 0   date          23967 non-null  object\n",
      " 1   type          23967 non-null  object\n",
      " 2   registration  22419 non-null  object\n",
      " 3   operator      23963 non-null  object\n",
      " 4   fatalities    20029 non-null  object\n",
      " 5   location      23019 non-null  object\n",
      " 6   country       23967 non-null  object\n",
      " 7   cat           23967 non-null  object\n",
      " 8   year          23967 non-null  object\n",
      "dtypes: object(9)\n",
      "memory usage: 1.6+ MB\n"
     ]
    }
   ],
   "source": [
    "df = pd.read_csv('./Data/aviation-accident-data-2023-05-16.csv')\n",
    "df.info()"
   ]
  },
  {
   "cell_type": "code",
   "execution_count": 4,
   "id": "96640a16",
   "metadata": {},
   "outputs": [],
   "source": [
    "df.rename(columns={'cat': 'accident_category'}, inplace=True)"
   ]
  },
  {
   "cell_type": "code",
   "execution_count": 5,
   "id": "c5154d9a",
   "metadata": {},
   "outputs": [],
   "source": [
    "df.duplicated().sum()   \n",
    "df.drop_duplicates(inplace=True)"
   ]
  },
  {
   "cell_type": "code",
   "execution_count": 6,
   "id": "fc776727",
   "metadata": {},
   "outputs": [],
   "source": [
    "df['aircraft_fatalities'] = df['fatalities'].apply(\n",
    "    lambda x: int(str(x).split('+')[0].strip()) \n",
    "    if isinstance(x, str) and '+' in x and str(x).split('+')[0].strip().isdigit()\n",
    "    else int(x) if str(x).isdigit()\n",
    "    else np.nan\n",
    ")"
   ]
  },
  {
   "cell_type": "code",
   "execution_count": 7,
   "id": "46962e1b",
   "metadata": {},
   "outputs": [],
   "source": [
    "df['ground_fatalities'] = df['fatalities'].apply(\n",
    "    lambda x: int(str(x).split('+')[1].strip()) \n",
    "    if isinstance(x, str) and '+' in x and str(x).split('+')[1].strip().isdigit()\n",
    "    else 0 if str(x).isdigit()\n",
    "    else np.nan\n",
    ")"
   ]
  },
  {
   "cell_type": "code",
   "execution_count": 8,
   "id": "72ceda61",
   "metadata": {},
   "outputs": [],
   "source": [
    "df.rename(columns={'fatalities': 'total_fatalities'}, inplace=True)\n",
    "df['total_fatalities'] = df['total_fatalities'].apply(\n",
    "    lambda x: sum(int(part.strip()) for part in str(x).split('+')) \n",
    "    if isinstance(x, str) and '+' in x \n",
    "    else int(x) if str(x).isdigit() \n",
    "    else x\n",
    ")"
   ]
  },
  {
   "cell_type": "code",
   "execution_count": 9,
   "id": "992ac3db",
   "metadata": {},
   "outputs": [
    {
     "data": {
      "text/plain": [
       "0.0      10705\n",
       "2.0       1136\n",
       "1.0       1061\n",
       "3.0        992\n",
       "4.0        891\n",
       "         ...  \n",
       "124.0        1\n",
       "188.0        1\n",
       "166.0        1\n",
       "149.0        1\n",
       "181.0        1\n",
       "Name: total_fatalities, Length: 203, dtype: int64"
      ]
     },
     "execution_count": 9,
     "metadata": {},
     "output_type": "execute_result"
    }
   ],
   "source": [
    "df['total_fatalities'].value_counts()"
   ]
  },
  {
   "cell_type": "code",
   "execution_count": 10,
   "id": "79387b9d",
   "metadata": {},
   "outputs": [
    {
     "data": {
      "text/plain": [
       "date                      0\n",
       "type                      0\n",
       "registration           1434\n",
       "operator                  4\n",
       "total_fatalities       3833\n",
       "location                932\n",
       "country                   0\n",
       "accident_category         0\n",
       "year                      0\n",
       "aircraft_fatalities    3833\n",
       "ground_fatalities      3833\n",
       "dtype: int64"
      ]
     },
     "execution_count": 10,
     "metadata": {},
     "output_type": "execute_result"
    }
   ],
   "source": [
    "df.isna().sum()"
   ]
  },
  {
   "cell_type": "code",
   "execution_count": 11,
   "id": "bf6ff7b9",
   "metadata": {},
   "outputs": [
    {
     "name": "stdout",
     "output_type": "stream",
     "text": [
      "<class 'pandas.core.frame.DataFrame'>\n",
      "Int64Index: 23852 entries, 0 to 23966\n",
      "Data columns (total 11 columns):\n",
      " #   Column               Non-Null Count  Dtype  \n",
      "---  ------               --------------  -----  \n",
      " 0   date                 23852 non-null  object \n",
      " 1   type                 23852 non-null  object \n",
      " 2   registration         22418 non-null  object \n",
      " 3   operator             23848 non-null  object \n",
      " 4   total_fatalities     20019 non-null  float64\n",
      " 5   location             22920 non-null  object \n",
      " 6   country              23852 non-null  object \n",
      " 7   accident_category    23852 non-null  object \n",
      " 8   year                 23852 non-null  object \n",
      " 9   aircraft_fatalities  20019 non-null  float64\n",
      " 10  ground_fatalities    20019 non-null  float64\n",
      "dtypes: float64(3), object(8)\n",
      "memory usage: 2.2+ MB\n"
     ]
    }
   ],
   "source": [
    "df.info()"
   ]
  },
  {
   "cell_type": "code",
   "execution_count": 12,
   "id": "43355ca1",
   "metadata": {},
   "outputs": [],
   "source": [
    "#if df has more than 3 rows with missing values, drop the rows\n",
    "df = df[df.isna().sum(axis=1) <= 3]"
   ]
  },
  {
   "cell_type": "code",
   "execution_count": 13,
   "id": "c3f98c0a",
   "metadata": {},
   "outputs": [
    {
     "name": "stdout",
     "output_type": "stream",
     "text": [
      "<class 'pandas.core.frame.DataFrame'>\n",
      "Int64Index: 22946 entries, 4 to 23966\n",
      "Data columns (total 11 columns):\n",
      " #   Column               Non-Null Count  Dtype  \n",
      "---  ------               --------------  -----  \n",
      " 0   date                 22946 non-null  object \n",
      " 1   type                 22946 non-null  object \n",
      " 2   registration         21682 non-null  object \n",
      " 3   operator             22943 non-null  object \n",
      " 4   total_fatalities     20019 non-null  float64\n",
      " 5   location             22780 non-null  object \n",
      " 6   country              22946 non-null  object \n",
      " 7   accident_category    22946 non-null  object \n",
      " 8   year                 22946 non-null  object \n",
      " 9   aircraft_fatalities  20019 non-null  float64\n",
      " 10  ground_fatalities    20019 non-null  float64\n",
      "dtypes: float64(3), object(8)\n",
      "memory usage: 2.1+ MB\n"
     ]
    }
   ],
   "source": [
    "df.info()"
   ]
  },
  {
   "cell_type": "code",
   "execution_count": 14,
   "id": "75832c79",
   "metadata": {},
   "outputs": [
    {
     "data": {
      "text/plain": [
       "date                      0\n",
       "type                      0\n",
       "registration           1264\n",
       "operator                  3\n",
       "total_fatalities       2927\n",
       "location                166\n",
       "country                   0\n",
       "accident_category         0\n",
       "year                      0\n",
       "aircraft_fatalities    2927\n",
       "ground_fatalities      2927\n",
       "dtype: int64"
      ]
     },
     "execution_count": 14,
     "metadata": {},
     "output_type": "execute_result"
    }
   ],
   "source": [
    "df.isna().sum()"
   ]
  },
  {
   "cell_type": "code",
   "execution_count": 15,
   "id": "fd6dcaf8",
   "metadata": {},
   "outputs": [],
   "source": [
    "df['total_fatalities'].fillna(df['total_fatalities'].median(), inplace=True)\n",
    "df['aircraft_fatalities'].fillna(df['aircraft_fatalities'].median(), inplace=True)\n",
    "df['ground_fatalities'].fillna(df['ground_fatalities'].median(), inplace=True)"
   ]
  },
  {
   "cell_type": "code",
   "execution_count": 16,
   "id": "1918468c",
   "metadata": {},
   "outputs": [
    {
     "data": {
      "text/plain": [
       "date                      0\n",
       "type                      0\n",
       "registration           1264\n",
       "operator                  3\n",
       "total_fatalities          0\n",
       "location                166\n",
       "country                   0\n",
       "accident_category         0\n",
       "year                      0\n",
       "aircraft_fatalities       0\n",
       "ground_fatalities         0\n",
       "dtype: int64"
      ]
     },
     "execution_count": 16,
     "metadata": {},
     "output_type": "execute_result"
    }
   ],
   "source": [
    "df.isna().sum()"
   ]
  },
  {
   "cell_type": "code",
   "execution_count": 17,
   "id": "bbe848f6",
   "metadata": {},
   "outputs": [
    {
     "name": "stdout",
     "output_type": "stream",
     "text": [
      "<class 'pandas.core.frame.DataFrame'>\n",
      "Int64Index: 22946 entries, 4 to 23966\n",
      "Data columns (total 11 columns):\n",
      " #   Column               Non-Null Count  Dtype         \n",
      "---  ------               --------------  -----         \n",
      " 0   date                 22581 non-null  datetime64[ns]\n",
      " 1   type                 22946 non-null  object        \n",
      " 2   registration         21682 non-null  object        \n",
      " 3   operator             22943 non-null  object        \n",
      " 4   total_fatalities     22946 non-null  float64       \n",
      " 5   location             22780 non-null  object        \n",
      " 6   country              22946 non-null  object        \n",
      " 7   accident_category    22946 non-null  object        \n",
      " 8   year                 22907 non-null  datetime64[ns]\n",
      " 9   aircraft_fatalities  22946 non-null  float64       \n",
      " 10  ground_fatalities    22946 non-null  float64       \n",
      "dtypes: datetime64[ns](2), float64(3), object(6)\n",
      "memory usage: 2.1+ MB\n"
     ]
    }
   ],
   "source": [
    "df['date'] = pd.to_datetime(df['date'], errors='coerce')\n",
    "df['year'] = pd.to_datetime(df['year'], errors='coerce')\n",
    "df.info()"
   ]
  },
  {
   "cell_type": "code",
   "execution_count": 18,
   "id": "381132e6",
   "metadata": {},
   "outputs": [
    {
     "name": "stdout",
     "output_type": "stream",
     "text": [
      "<class 'pandas.core.frame.DataFrame'>\n",
      "Int64Index: 22581 entries, 61 to 23966\n",
      "Data columns (total 11 columns):\n",
      " #   Column               Non-Null Count  Dtype         \n",
      "---  ------               --------------  -----         \n",
      " 0   date                 22581 non-null  datetime64[ns]\n",
      " 1   type                 22581 non-null  object        \n",
      " 2   registration         21327 non-null  object        \n",
      " 3   operator             22578 non-null  object        \n",
      " 4   total_fatalities     22581 non-null  float64       \n",
      " 5   location             22444 non-null  object        \n",
      " 6   country              22581 non-null  object        \n",
      " 7   accident_category    22581 non-null  object        \n",
      " 8   year                 22581 non-null  datetime64[ns]\n",
      " 9   aircraft_fatalities  22581 non-null  float64       \n",
      " 10  ground_fatalities    22581 non-null  float64       \n",
      "dtypes: datetime64[ns](2), float64(3), object(6)\n",
      "memory usage: 2.1+ MB\n"
     ]
    }
   ],
   "source": [
    "df.dropna(subset=['date', 'year'], inplace=True)\n",
    "df.info()"
   ]
  },
  {
   "cell_type": "code",
   "execution_count": 19,
   "id": "71b3de4d",
   "metadata": {},
   "outputs": [
    {
     "data": {
      "text/plain": [
       "date                      0\n",
       "type                      0\n",
       "registration           1254\n",
       "operator                  3\n",
       "total_fatalities          0\n",
       "location                137\n",
       "country                   0\n",
       "accident_category         0\n",
       "year                      0\n",
       "aircraft_fatalities       0\n",
       "ground_fatalities         0\n",
       "dtype: int64"
      ]
     },
     "execution_count": 19,
     "metadata": {},
     "output_type": "execute_result"
    }
   ],
   "source": [
    "df.isna().sum()"
   ]
  },
  {
   "cell_type": "code",
   "execution_count": 20,
   "id": "7d9aeb03",
   "metadata": {},
   "outputs": [],
   "source": [
    "df['registration'].fillna('Unknown', inplace= True)\n",
    "df['location'].fillna('Unknown location', inplace= True)\n",
    "df['operator'].fillna('Unknown', inplace= True)\n"
   ]
  },
  {
   "cell_type": "code",
   "execution_count": 21,
   "id": "e5161fbd",
   "metadata": {},
   "outputs": [
    {
     "data": {
      "text/plain": [
       "date                   0\n",
       "type                   0\n",
       "registration           0\n",
       "operator               0\n",
       "total_fatalities       0\n",
       "location               0\n",
       "country                0\n",
       "accident_category      0\n",
       "year                   0\n",
       "aircraft_fatalities    0\n",
       "ground_fatalities      0\n",
       "dtype: int64"
      ]
     },
     "execution_count": 21,
     "metadata": {},
     "output_type": "execute_result"
    }
   ],
   "source": [
    "df.isna().sum()"
   ]
  },
  {
   "cell_type": "code",
   "execution_count": 22,
   "id": "87029116",
   "metadata": {},
   "outputs": [],
   "source": [
    "#convert total_fatalities, ground_fatalities and aircraft_fatalities to int\n",
    "df['total_fatalities'] = df['total_fatalities'].astype(int)\n",
    "df['ground_fatalities'] = df['ground_fatalities'].astype(int)\n",
    "df['aircraft_fatalities'] = df['aircraft_fatalities'].astype(int)\n",
    "df['operator'] = df['operator'].astype('category')\n",
    "df['accident_category'] = df['accident_category'].astype('category')\n",
    "df['type'] = df['type'].astype('category')"
   ]
  },
  {
   "cell_type": "code",
   "execution_count": 23,
   "id": "47d0d1f9",
   "metadata": {},
   "outputs": [
    {
     "name": "stdout",
     "output_type": "stream",
     "text": [
      "<class 'pandas.core.frame.DataFrame'>\n",
      "Int64Index: 22581 entries, 61 to 23966\n",
      "Data columns (total 11 columns):\n",
      " #   Column               Non-Null Count  Dtype         \n",
      "---  ------               --------------  -----         \n",
      " 0   date                 22581 non-null  datetime64[ns]\n",
      " 1   type                 22581 non-null  category      \n",
      " 2   registration         22581 non-null  object        \n",
      " 3   operator             22581 non-null  category      \n",
      " 4   total_fatalities     22581 non-null  int32         \n",
      " 5   location             22581 non-null  object        \n",
      " 6   country              22581 non-null  object        \n",
      " 7   accident_category    22581 non-null  category      \n",
      " 8   year                 22581 non-null  datetime64[ns]\n",
      " 9   aircraft_fatalities  22581 non-null  int32         \n",
      " 10  ground_fatalities    22581 non-null  int32         \n",
      "dtypes: category(3), datetime64[ns](2), int32(3), object(3)\n",
      "memory usage: 1.8+ MB\n"
     ]
    }
   ],
   "source": [
    "df.info()"
   ]
  },
  {
   "cell_type": "code",
   "execution_count": 24,
   "id": "e8da11ea",
   "metadata": {},
   "outputs": [
    {
     "data": {
      "text/plain": [
       "date                   0\n",
       "type                   0\n",
       "registration           0\n",
       "operator               0\n",
       "total_fatalities       0\n",
       "location               0\n",
       "country                0\n",
       "accident_category      0\n",
       "year                   0\n",
       "aircraft_fatalities    0\n",
       "ground_fatalities      0\n",
       "dtype: int64"
      ]
     },
     "execution_count": 24,
     "metadata": {},
     "output_type": "execute_result"
    }
   ],
   "source": [
    "df.isna().sum()"
   ]
  },
  {
   "cell_type": "code",
   "execution_count": 25,
   "id": "ff1cbecd",
   "metadata": {},
   "outputs": [
    {
     "data": {
      "text/plain": [
       "0"
      ]
     },
     "execution_count": 25,
     "metadata": {},
     "output_type": "execute_result"
    }
   ],
   "source": [
    "df.duplicated().sum()"
   ]
  },
  {
   "cell_type": "code",
   "execution_count": 26,
   "id": "4180b00e",
   "metadata": {},
   "outputs": [
    {
     "data": {
      "text/html": [
       "<div>\n",
       "<style scoped>\n",
       "    .dataframe tbody tr th:only-of-type {\n",
       "        vertical-align: middle;\n",
       "    }\n",
       "\n",
       "    .dataframe tbody tr th {\n",
       "        vertical-align: top;\n",
       "    }\n",
       "\n",
       "    .dataframe thead th {\n",
       "        text-align: right;\n",
       "    }\n",
       "</style>\n",
       "<table border=\"1\" class=\"dataframe\">\n",
       "  <thead>\n",
       "    <tr style=\"text-align: right;\">\n",
       "      <th></th>\n",
       "      <th>total_fatalities</th>\n",
       "      <th>aircraft_fatalities</th>\n",
       "      <th>ground_fatalities</th>\n",
       "    </tr>\n",
       "  </thead>\n",
       "  <tbody>\n",
       "    <tr>\n",
       "      <th>count</th>\n",
       "      <td>22581.000000</td>\n",
       "      <td>22581.000000</td>\n",
       "      <td>22581.000000</td>\n",
       "    </tr>\n",
       "    <tr>\n",
       "      <th>mean</th>\n",
       "      <td>5.875781</td>\n",
       "      <td>5.656260</td>\n",
       "      <td>0.219521</td>\n",
       "    </tr>\n",
       "    <tr>\n",
       "      <th>std</th>\n",
       "      <td>22.654593</td>\n",
       "      <td>18.356305</td>\n",
       "      <td>12.456167</td>\n",
       "    </tr>\n",
       "    <tr>\n",
       "      <th>min</th>\n",
       "      <td>0.000000</td>\n",
       "      <td>0.000000</td>\n",
       "      <td>0.000000</td>\n",
       "    </tr>\n",
       "    <tr>\n",
       "      <th>25%</th>\n",
       "      <td>0.000000</td>\n",
       "      <td>0.000000</td>\n",
       "      <td>0.000000</td>\n",
       "    </tr>\n",
       "    <tr>\n",
       "      <th>50%</th>\n",
       "      <td>0.000000</td>\n",
       "      <td>0.000000</td>\n",
       "      <td>0.000000</td>\n",
       "    </tr>\n",
       "    <tr>\n",
       "      <th>75%</th>\n",
       "      <td>4.000000</td>\n",
       "      <td>4.000000</td>\n",
       "      <td>0.000000</td>\n",
       "    </tr>\n",
       "    <tr>\n",
       "      <th>max</th>\n",
       "      <td>1692.000000</td>\n",
       "      <td>520.000000</td>\n",
       "      <td>1600.000000</td>\n",
       "    </tr>\n",
       "  </tbody>\n",
       "</table>\n",
       "</div>"
      ],
      "text/plain": [
       "       total_fatalities  aircraft_fatalities  ground_fatalities\n",
       "count      22581.000000         22581.000000       22581.000000\n",
       "mean           5.875781             5.656260           0.219521\n",
       "std           22.654593            18.356305          12.456167\n",
       "min            0.000000             0.000000           0.000000\n",
       "25%            0.000000             0.000000           0.000000\n",
       "50%            0.000000             0.000000           0.000000\n",
       "75%            4.000000             4.000000           0.000000\n",
       "max         1692.000000           520.000000        1600.000000"
      ]
     },
     "execution_count": 26,
     "metadata": {},
     "output_type": "execute_result"
    }
   ],
   "source": [
    "df.describe()"
   ]
  },
  {
   "cell_type": "code",
   "execution_count": 27,
   "id": "6323137a",
   "metadata": {},
   "outputs": [],
   "source": [
    "#strip leading and trailing spaces from categorical columns\n",
    "columns = ['operator', 'accident_category', 'type']\n",
    "df[columns] = df[columns].apply(lambda x: x.str.strip())"
   ]
  },
  {
   "cell_type": "code",
   "execution_count": 28,
   "id": "e9703239",
   "metadata": {},
   "outputs": [
    {
     "name": "stdout",
     "output_type": "stream",
     "text": [
      "<class 'pandas.core.frame.DataFrame'>\n",
      "Int64Index: 22581 entries, 61 to 23966\n",
      "Data columns (total 11 columns):\n",
      " #   Column               Non-Null Count  Dtype         \n",
      "---  ------               --------------  -----         \n",
      " 0   date                 22581 non-null  datetime64[ns]\n",
      " 1   type                 22581 non-null  object        \n",
      " 2   registration         22581 non-null  object        \n",
      " 3   operator             22581 non-null  object        \n",
      " 4   total_fatalities     22581 non-null  int32         \n",
      " 5   location             22581 non-null  object        \n",
      " 6   country              22581 non-null  object        \n",
      " 7   accident_category    22581 non-null  object        \n",
      " 8   year                 22581 non-null  datetime64[ns]\n",
      " 9   aircraft_fatalities  22581 non-null  int32         \n",
      " 10  ground_fatalities    22581 non-null  int32         \n",
      "dtypes: datetime64[ns](2), int32(3), object(6)\n",
      "memory usage: 1.8+ MB\n"
     ]
    }
   ],
   "source": [
    "df.info()\n"
   ]
  },
  {
   "cell_type": "code",
   "execution_count": 29,
   "id": "08f25335",
   "metadata": {},
   "outputs": [
    {
     "data": {
      "text/plain": [
       "Douglas DC-2-115G               1\n",
       "DH-125-1A/522                   1\n",
       "Boeing 737-3Q8 (SF)             1\n",
       "Boeing 707-139                  1\n",
       "Cessna 560XLS Citation Excel    1\n",
       "Vickers 952F Vanguard           1\n",
       "Lockheed C-69 Constellation     1\n",
       "DHC-8-101                       1\n",
       "DC-9-33CF                       1\n",
       "Vickers 779D Viscount           1\n",
       "Name: type, dtype: int64"
      ]
     },
     "execution_count": 29,
     "metadata": {},
     "output_type": "execute_result"
    }
   ],
   "source": [
    "#which plane types are least involved in accidents\n",
    "plane_type_stats = df['type'].value_counts().tail(10)\n",
    "plane_type_stats\n"
   ]
  },
  {
   "cell_type": "code",
   "execution_count": 30,
   "id": "07e9a845",
   "metadata": {},
   "outputs": [
    {
     "data": {
      "text/plain": [
       "type\n",
       "A.W. AW-650 Argosy 101    0\n",
       "Boeing 747-212B (SF)      0\n",
       "Boeing 747-228B           0\n",
       "Boeing 747-228F (SCD)     0\n",
       "Boeing 747-230F (SCD)     0\n",
       "Handley Page W.8          0\n",
       "Handley Page O/10         0\n",
       "Boeing 747-251B           0\n",
       "Boeing 747-258C           0\n",
       "Boeing 747-281B (SF)      0\n",
       "Name: total_fatalities, dtype: int32"
      ]
     },
     "execution_count": 30,
     "metadata": {},
     "output_type": "execute_result"
    }
   ],
   "source": [
    "#which plane types have the least total_fatalities when involved in accidents of category A1\n",
    "fatality_by_type = df[df['accident_category'] == 'A1'].groupby('type')['total_fatalities'].sum().sort_values().head(10)\n",
    "fatality_by_type"
   ]
  },
  {
   "cell_type": "code",
   "execution_count": 31,
   "id": "a88472bc",
   "metadata": {},
   "outputs": [
    {
     "data": {
      "text/html": [
       "<div>\n",
       "<style scoped>\n",
       "    .dataframe tbody tr th:only-of-type {\n",
       "        vertical-align: middle;\n",
       "    }\n",
       "\n",
       "    .dataframe tbody tr th {\n",
       "        vertical-align: top;\n",
       "    }\n",
       "\n",
       "    .dataframe thead th {\n",
       "        text-align: right;\n",
       "    }\n",
       "</style>\n",
       "<table border=\"1\" class=\"dataframe\">\n",
       "  <thead>\n",
       "    <tr style=\"text-align: right;\">\n",
       "      <th></th>\n",
       "      <th>occurrences</th>\n",
       "      <th>total_fatalities</th>\n",
       "    </tr>\n",
       "    <tr>\n",
       "      <th>operator</th>\n",
       "      <th></th>\n",
       "      <th></th>\n",
       "    </tr>\n",
       "  </thead>\n",
       "  <tbody>\n",
       "    <tr>\n",
       "      <th>USAAF</th>\n",
       "      <td>2323</td>\n",
       "      <td>4607</td>\n",
       "    </tr>\n",
       "    <tr>\n",
       "      <th>USAF</th>\n",
       "      <td>1086</td>\n",
       "      <td>5905</td>\n",
       "    </tr>\n",
       "    <tr>\n",
       "      <th>RAF</th>\n",
       "      <td>909</td>\n",
       "      <td>2632</td>\n",
       "    </tr>\n",
       "    <tr>\n",
       "      <th>US Navy</th>\n",
       "      <td>706</td>\n",
       "      <td>2849</td>\n",
       "    </tr>\n",
       "    <tr>\n",
       "      <th>private</th>\n",
       "      <td>289</td>\n",
       "      <td>272</td>\n",
       "    </tr>\n",
       "    <tr>\n",
       "      <th>...</th>\n",
       "      <td>...</td>\n",
       "      <td>...</td>\n",
       "    </tr>\n",
       "    <tr>\n",
       "      <th>Birgenair, op.for Alas Nacionales</th>\n",
       "      <td>1</td>\n",
       "      <td>189</td>\n",
       "    </tr>\n",
       "    <tr>\n",
       "      <th>Lauda Air</th>\n",
       "      <td>1</td>\n",
       "      <td>223</td>\n",
       "    </tr>\n",
       "    <tr>\n",
       "      <th>Metrojet</th>\n",
       "      <td>1</td>\n",
       "      <td>224</td>\n",
       "    </tr>\n",
       "    <tr>\n",
       "      <th>Moscow Airlines, op.for African Air</th>\n",
       "      <td>1</td>\n",
       "      <td>237</td>\n",
       "    </tr>\n",
       "    <tr>\n",
       "      <th>Nationair, op.for Nigeria Airways</th>\n",
       "      <td>1</td>\n",
       "      <td>261</td>\n",
       "    </tr>\n",
       "  </tbody>\n",
       "</table>\n",
       "<p>5889 rows × 2 columns</p>\n",
       "</div>"
      ],
      "text/plain": [
       "                                     occurrences  total_fatalities\n",
       "operator                                                          \n",
       "USAAF                                       2323              4607\n",
       "USAF                                        1086              5905\n",
       "RAF                                          909              2632\n",
       "US Navy                                      706              2849\n",
       "private                                      289               272\n",
       "...                                          ...               ...\n",
       "Birgenair, op.for Alas Nacionales              1               189\n",
       "Lauda Air                                      1               223\n",
       "Metrojet                                       1               224\n",
       "Moscow Airlines, op.for African Air            1               237\n",
       "Nationair, op.for Nigeria Airways              1               261\n",
       "\n",
       "[5889 rows x 2 columns]"
      ]
     },
     "execution_count": 31,
     "metadata": {},
     "output_type": "execute_result"
    }
   ],
   "source": [
    "#Operators with consistently lower accident records.\n",
    "operator_stats = df.groupby('operator').agg(\n",
    "    occurrences=('operator', 'count'),\n",
    "    total_fatalities=('total_fatalities', 'sum')\n",
    ").sort_values(by=['occurrences', 'total_fatalities'], ascending=[False, True])\n",
    "operator_stats"
   ]
  }
 ],
 "metadata": {
  "kernelspec": {
   "display_name": "learn-env",
   "language": "python",
   "name": "python3"
  },
  "language_info": {
   "codemirror_mode": {
    "name": "ipython",
    "version": 3
   },
   "file_extension": ".py",
   "mimetype": "text/x-python",
   "name": "python",
   "nbconvert_exporter": "python",
   "pygments_lexer": "ipython3",
   "version": "3.8.5"
  }
 },
 "nbformat": 4,
 "nbformat_minor": 5
}
