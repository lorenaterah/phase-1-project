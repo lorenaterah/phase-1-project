{
 "cells": [
  {
   "cell_type": "code",
   "execution_count": 217,
   "metadata": {},
   "outputs": [],
   "source": [
    "import pandas as pd\n",
    "import numpy as np\n",
    "import matplotlib.pyplot as plt \n",
    "import seaborn as sns\n"
   ]
  },
  {
   "cell_type": "code",
   "execution_count": 218,
   "id": "49421080",
   "metadata": {},
   "outputs": [],
   "source": [
    "df = pd.read_csv('./Data/aviation-accident-data-2023-05-16.csv')"
   ]
  },
  {
   "cell_type": "code",
   "execution_count": 219,
   "id": "45e10339",
   "metadata": {},
   "outputs": [
    {
     "data": {
      "text/html": [
       "<div>\n",
       "<style scoped>\n",
       "    .dataframe tbody tr th:only-of-type {\n",
       "        vertical-align: middle;\n",
       "    }\n",
       "\n",
       "    .dataframe tbody tr th {\n",
       "        vertical-align: top;\n",
       "    }\n",
       "\n",
       "    .dataframe thead th {\n",
       "        text-align: right;\n",
       "    }\n",
       "</style>\n",
       "<table border=\"1\" class=\"dataframe\">\n",
       "  <thead>\n",
       "    <tr style=\"text-align: right;\">\n",
       "      <th></th>\n",
       "      <th>date</th>\n",
       "      <th>type</th>\n",
       "      <th>registration</th>\n",
       "      <th>operator</th>\n",
       "      <th>fatalities</th>\n",
       "      <th>location</th>\n",
       "      <th>country</th>\n",
       "      <th>cat</th>\n",
       "      <th>year</th>\n",
       "    </tr>\n",
       "  </thead>\n",
       "  <tbody>\n",
       "    <tr>\n",
       "      <th>0</th>\n",
       "      <td>date unk.</td>\n",
       "      <td>Antonov An-12B</td>\n",
       "      <td>T-1206</td>\n",
       "      <td>Indonesian AF</td>\n",
       "      <td>NaN</td>\n",
       "      <td>NaN</td>\n",
       "      <td>Unknown country</td>\n",
       "      <td>U1</td>\n",
       "      <td>unknown</td>\n",
       "    </tr>\n",
       "    <tr>\n",
       "      <th>1</th>\n",
       "      <td>date unk.</td>\n",
       "      <td>Antonov An-12B</td>\n",
       "      <td>T-1204</td>\n",
       "      <td>Indonesian AF</td>\n",
       "      <td>NaN</td>\n",
       "      <td>NaN</td>\n",
       "      <td>Unknown country</td>\n",
       "      <td>U1</td>\n",
       "      <td>unknown</td>\n",
       "    </tr>\n",
       "    <tr>\n",
       "      <th>2</th>\n",
       "      <td>date unk.</td>\n",
       "      <td>Antonov An-12B</td>\n",
       "      <td>T-1201</td>\n",
       "      <td>Indonesian AF</td>\n",
       "      <td>NaN</td>\n",
       "      <td>NaN</td>\n",
       "      <td>Unknown country</td>\n",
       "      <td>U1</td>\n",
       "      <td>unknown</td>\n",
       "    </tr>\n",
       "    <tr>\n",
       "      <th>3</th>\n",
       "      <td>date unk.</td>\n",
       "      <td>Antonov An-12BK</td>\n",
       "      <td>NaN</td>\n",
       "      <td>Soviet AF</td>\n",
       "      <td>NaN</td>\n",
       "      <td>Tiksi Airport (IKS)</td>\n",
       "      <td>Russia</td>\n",
       "      <td>A1</td>\n",
       "      <td>unknown</td>\n",
       "    </tr>\n",
       "    <tr>\n",
       "      <th>4</th>\n",
       "      <td>date unk.</td>\n",
       "      <td>Antonov An-12BP</td>\n",
       "      <td>CCCP-11815</td>\n",
       "      <td>Soviet AF</td>\n",
       "      <td>0</td>\n",
       "      <td>Massawa Airport ...</td>\n",
       "      <td>Eritrea</td>\n",
       "      <td>A1</td>\n",
       "      <td>unknown</td>\n",
       "    </tr>\n",
       "    <tr>\n",
       "      <th>5</th>\n",
       "      <td>date unk.</td>\n",
       "      <td>Antonov An-12BP</td>\n",
       "      <td>CCCP-12172</td>\n",
       "      <td>Soviet AF</td>\n",
       "      <td>NaN</td>\n",
       "      <td>NaN</td>\n",
       "      <td>Russia</td>\n",
       "      <td>U1</td>\n",
       "      <td>unknown</td>\n",
       "    </tr>\n",
       "    <tr>\n",
       "      <th>6</th>\n",
       "      <td>date unk.</td>\n",
       "      <td>Antonov An-2</td>\n",
       "      <td>CCCP-N574</td>\n",
       "      <td>GUSMP, Directorate of Polar Aviation</td>\n",
       "      <td>NaN</td>\n",
       "      <td>unknown</td>\n",
       "      <td>Russia</td>\n",
       "      <td>A1</td>\n",
       "      <td>unknown</td>\n",
       "    </tr>\n",
       "    <tr>\n",
       "      <th>7</th>\n",
       "      <td>date unk.</td>\n",
       "      <td>Antonov An-2</td>\n",
       "      <td>CCCP-01216</td>\n",
       "      <td>Aeroflot</td>\n",
       "      <td>0</td>\n",
       "      <td>Chita region</td>\n",
       "      <td>Russia</td>\n",
       "      <td>A2</td>\n",
       "      <td>unknown</td>\n",
       "    </tr>\n",
       "    <tr>\n",
       "      <th>8</th>\n",
       "      <td>date unk.</td>\n",
       "      <td>Antonov An-24B</td>\n",
       "      <td>RA-47794</td>\n",
       "      <td>Russian AF</td>\n",
       "      <td>0</td>\n",
       "      <td>NaN</td>\n",
       "      <td>Russia</td>\n",
       "      <td>A1</td>\n",
       "      <td>unknown</td>\n",
       "    </tr>\n",
       "    <tr>\n",
       "      <th>9</th>\n",
       "      <td>date unk.</td>\n",
       "      <td>Antonov An-26</td>\n",
       "      <td>01 red</td>\n",
       "      <td>Soviet AF</td>\n",
       "      <td>0</td>\n",
       "      <td>Orenburg Air Base</td>\n",
       "      <td>Russia</td>\n",
       "      <td>O1</td>\n",
       "      <td>unknown</td>\n",
       "    </tr>\n",
       "    <tr>\n",
       "      <th>10</th>\n",
       "      <td>date unk.</td>\n",
       "      <td>Antonov An-26</td>\n",
       "      <td>RA-47415</td>\n",
       "      <td>Russian AF</td>\n",
       "      <td>0</td>\n",
       "      <td>Belgorod Airport...</td>\n",
       "      <td>Russia</td>\n",
       "      <td>A1</td>\n",
       "      <td>unknown</td>\n",
       "    </tr>\n",
       "    <tr>\n",
       "      <th>11</th>\n",
       "      <td>date unk.</td>\n",
       "      <td>Antonov An-26</td>\n",
       "      <td>RA-47414</td>\n",
       "      <td>Aeroflot</td>\n",
       "      <td>0</td>\n",
       "      <td>NaN</td>\n",
       "      <td>Russia</td>\n",
       "      <td>A1</td>\n",
       "      <td>unknown</td>\n",
       "    </tr>\n",
       "    <tr>\n",
       "      <th>12</th>\n",
       "      <td>date unk.</td>\n",
       "      <td>Antonov An-26</td>\n",
       "      <td>5A-DOK</td>\n",
       "      <td>Sin Sad Airlines</td>\n",
       "      <td>NaN</td>\n",
       "      <td>Wadi Bu al Hashm</td>\n",
       "      <td>Libya</td>\n",
       "      <td>A1</td>\n",
       "      <td>unknown</td>\n",
       "    </tr>\n",
       "    <tr>\n",
       "      <th>13</th>\n",
       "      <td>date unk.</td>\n",
       "      <td>Antonov An-2R</td>\n",
       "      <td>-</td>\n",
       "      <td>PZL-Mielec</td>\n",
       "      <td>0</td>\n",
       "      <td>Mielec</td>\n",
       "      <td>Poland</td>\n",
       "      <td>O1</td>\n",
       "      <td>unknown</td>\n",
       "    </tr>\n",
       "    <tr>\n",
       "      <th>14</th>\n",
       "      <td>date unk.</td>\n",
       "      <td>Antonov An-2R</td>\n",
       "      <td>YU-BFR</td>\n",
       "      <td>Privredna Avijacija Osijek</td>\n",
       "      <td>NaN</td>\n",
       "      <td>NaN</td>\n",
       "      <td>Unknown country</td>\n",
       "      <td>U1</td>\n",
       "      <td>unknown</td>\n",
       "    </tr>\n",
       "    <tr>\n",
       "      <th>15</th>\n",
       "      <td>date unk.</td>\n",
       "      <td>Antonov An-2T</td>\n",
       "      <td>CCCP-01196</td>\n",
       "      <td>Aeroflot, Azerbaijan</td>\n",
       "      <td>0</td>\n",
       "      <td>NaN</td>\n",
       "      <td>Unknown country</td>\n",
       "      <td>O1</td>\n",
       "      <td>unknown</td>\n",
       "    </tr>\n",
       "    <tr>\n",
       "      <th>16</th>\n",
       "      <td>date unk.</td>\n",
       "      <td>Antonov An-2T</td>\n",
       "      <td>CCCP-28909</td>\n",
       "      <td>Aeroflot, Azerbaijan</td>\n",
       "      <td>0</td>\n",
       "      <td>NaN</td>\n",
       "      <td>?</td>\n",
       "      <td>O1</td>\n",
       "      <td>unknown</td>\n",
       "    </tr>\n",
       "    <tr>\n",
       "      <th>17</th>\n",
       "      <td>date unk.</td>\n",
       "      <td>Antonov An-2T</td>\n",
       "      <td>CCCP-98313</td>\n",
       "      <td>Aeroflot, Azerbaijan</td>\n",
       "      <td>0</td>\n",
       "      <td>NaN</td>\n",
       "      <td>?</td>\n",
       "      <td>O1</td>\n",
       "      <td>unknown</td>\n",
       "    </tr>\n",
       "    <tr>\n",
       "      <th>18</th>\n",
       "      <td>date unk.</td>\n",
       "      <td>Antonov An-2T</td>\n",
       "      <td>CCCP-28895</td>\n",
       "      <td>Aeroflot, Azerbaijan</td>\n",
       "      <td>0</td>\n",
       "      <td>NaN</td>\n",
       "      <td>?</td>\n",
       "      <td>O1</td>\n",
       "      <td>unknown</td>\n",
       "    </tr>\n",
       "    <tr>\n",
       "      <th>19</th>\n",
       "      <td>date unk.</td>\n",
       "      <td>Antonov An-2T</td>\n",
       "      <td>CCCP-35494</td>\n",
       "      <td>Aeroflot, Azerbaijan</td>\n",
       "      <td>0</td>\n",
       "      <td>NaN</td>\n",
       "      <td>?</td>\n",
       "      <td>O1</td>\n",
       "      <td>unknown</td>\n",
       "    </tr>\n",
       "  </tbody>\n",
       "</table>\n",
       "</div>"
      ],
      "text/plain": [
       "         date             type registration  \\\n",
       "0   date unk.   Antonov An-12B       T-1206   \n",
       "1   date unk.   Antonov An-12B       T-1204   \n",
       "2   date unk.   Antonov An-12B       T-1201   \n",
       "3   date unk.  Antonov An-12BK          NaN   \n",
       "4   date unk.  Antonov An-12BP   CCCP-11815   \n",
       "5   date unk.  Antonov An-12BP   CCCP-12172   \n",
       "6   date unk.     Antonov An-2    CCCP-N574   \n",
       "7   date unk.     Antonov An-2   CCCP-01216   \n",
       "8   date unk.   Antonov An-24B     RA-47794   \n",
       "9   date unk.    Antonov An-26       01 red   \n",
       "10  date unk.    Antonov An-26     RA-47415   \n",
       "11  date unk.    Antonov An-26     RA-47414   \n",
       "12  date unk.    Antonov An-26       5A-DOK   \n",
       "13  date unk.    Antonov An-2R            -   \n",
       "14  date unk.    Antonov An-2R       YU-BFR   \n",
       "15  date unk.    Antonov An-2T   CCCP-01196   \n",
       "16  date unk.    Antonov An-2T   CCCP-28909   \n",
       "17  date unk.    Antonov An-2T   CCCP-98313   \n",
       "18  date unk.    Antonov An-2T   CCCP-28895   \n",
       "19  date unk.    Antonov An-2T   CCCP-35494   \n",
       "\n",
       "                                operator fatalities             location  \\\n",
       "0                          Indonesian AF        NaN                  NaN   \n",
       "1                          Indonesian AF        NaN                  NaN   \n",
       "2                          Indonesian AF        NaN                  NaN   \n",
       "3                              Soviet AF        NaN  Tiksi Airport (IKS)   \n",
       "4                              Soviet AF          0  Massawa Airport ...   \n",
       "5                              Soviet AF        NaN                  NaN   \n",
       "6   GUSMP, Directorate of Polar Aviation        NaN              unknown   \n",
       "7                               Aeroflot          0         Chita region   \n",
       "8                             Russian AF          0                  NaN   \n",
       "9                              Soviet AF          0    Orenburg Air Base   \n",
       "10                            Russian AF          0  Belgorod Airport...   \n",
       "11                              Aeroflot          0                  NaN   \n",
       "12                      Sin Sad Airlines        NaN     Wadi Bu al Hashm   \n",
       "13                            PZL-Mielec          0               Mielec   \n",
       "14            Privredna Avijacija Osijek        NaN                  NaN   \n",
       "15                  Aeroflot, Azerbaijan          0                  NaN   \n",
       "16                  Aeroflot, Azerbaijan          0                  NaN   \n",
       "17                  Aeroflot, Azerbaijan          0                  NaN   \n",
       "18                  Aeroflot, Azerbaijan          0                  NaN   \n",
       "19                  Aeroflot, Azerbaijan          0                  NaN   \n",
       "\n",
       "            country cat     year  \n",
       "0   Unknown country  U1  unknown  \n",
       "1   Unknown country  U1  unknown  \n",
       "2   Unknown country  U1  unknown  \n",
       "3            Russia  A1  unknown  \n",
       "4           Eritrea  A1  unknown  \n",
       "5            Russia  U1  unknown  \n",
       "6            Russia  A1  unknown  \n",
       "7            Russia  A2  unknown  \n",
       "8            Russia  A1  unknown  \n",
       "9            Russia  O1  unknown  \n",
       "10           Russia  A1  unknown  \n",
       "11           Russia  A1  unknown  \n",
       "12            Libya  A1  unknown  \n",
       "13           Poland  O1  unknown  \n",
       "14  Unknown country  U1  unknown  \n",
       "15  Unknown country  O1  unknown  \n",
       "16                ?  O1  unknown  \n",
       "17                ?  O1  unknown  \n",
       "18                ?  O1  unknown  \n",
       "19                ?  O1  unknown  "
      ]
     },
     "execution_count": 219,
     "metadata": {},
     "output_type": "execute_result"
    }
   ],
   "source": [
    "df.head(20)"
   ]
  },
  {
   "cell_type": "code",
   "execution_count": 220,
   "id": "b1ea486b",
   "metadata": {},
   "outputs": [
    {
     "name": "stdout",
     "output_type": "stream",
     "text": [
      "<class 'pandas.core.frame.DataFrame'>\n",
      "RangeIndex: 23967 entries, 0 to 23966\n",
      "Data columns (total 9 columns):\n",
      " #   Column        Non-Null Count  Dtype \n",
      "---  ------        --------------  ----- \n",
      " 0   date          23967 non-null  object\n",
      " 1   type          23967 non-null  object\n",
      " 2   registration  22419 non-null  object\n",
      " 3   operator      23963 non-null  object\n",
      " 4   fatalities    20029 non-null  object\n",
      " 5   location      23019 non-null  object\n",
      " 6   country       23967 non-null  object\n",
      " 7   cat           23967 non-null  object\n",
      " 8   year          23967 non-null  object\n",
      "dtypes: object(9)\n",
      "memory usage: 1.6+ MB\n"
     ]
    }
   ],
   "source": [
    "df.info()"
   ]
  },
  {
   "cell_type": "code",
   "execution_count": 221,
   "id": "9c6eb739",
   "metadata": {},
   "outputs": [
    {
     "data": {
      "text/plain": [
       "date               0\n",
       "type               0\n",
       "registration    1548\n",
       "operator           4\n",
       "fatalities      3938\n",
       "location         948\n",
       "country            0\n",
       "cat                0\n",
       "year               0\n",
       "dtype: int64"
      ]
     },
     "execution_count": 221,
     "metadata": {},
     "output_type": "execute_result"
    }
   ],
   "source": [
    "df.isna().sum()"
   ]
  },
  {
   "cell_type": "code",
   "execution_count": 222,
   "id": "c8423c4e",
   "metadata": {},
   "outputs": [
    {
     "data": {
      "text/plain": [
       "0         10713\n",
       "2          1117\n",
       "1          1005\n",
       "3           969\n",
       "4           873\n",
       "          ...  \n",
       "520           1\n",
       "46+ 6         1\n",
       "312           1\n",
       "154+ 2        1\n",
       "99+ 2         1\n",
       "Name: fatalities, Length: 369, dtype: int64"
      ]
     },
     "execution_count": 222,
     "metadata": {},
     "output_type": "execute_result"
    }
   ],
   "source": [
    "df['fatalities'].value_counts()"
   ]
  },
  {
   "cell_type": "code",
   "execution_count": 223,
   "id": "5ccb5b72",
   "metadata": {},
   "outputs": [],
   "source": [
    "#to change the NaN in fatalities to 0\n",
    "df['fatalities'].fillna(0, inplace=True)"
   ]
  },
  {
   "cell_type": "code",
   "execution_count": 224,
   "id": "646b14db",
   "metadata": {},
   "outputs": [
    {
     "data": {
      "text/plain": [
       "0"
      ]
     },
     "execution_count": 224,
     "metadata": {},
     "output_type": "execute_result"
    }
   ],
   "source": [
    "df['fatalities'].isna().sum()"
   ]
  },
  {
   "cell_type": "code",
   "execution_count": 225,
   "id": "bafbf157",
   "metadata": {},
   "outputs": [],
   "source": [
    "# code that changes the data in fatalities fo that those with + to the value have the + value added to it\n",
    "#df['fatalities'] = df['fatalities'].apply(lambda x: int(x) if isinstance(x, (int, float)) or x.isdigit() else int(x.split('+')[0]) + 1 if '+' in x else np.nan)\n",
    "\n",
    "df['fatalities'] = df['fatalities'].apply(lambda x: (int(x) if (isinstance(x, (int, float)) or str(x).isdigit()) else sum(int(i.strip()) for i in str(x).split('+')) if '+' in str(x) else np.nan))\n",
    "\n",
    "df['fatalities'] = pd.to_numeric(df['fatalities'], errors='coerce')"
   ]
  },
  {
   "cell_type": "code",
   "execution_count": 226,
   "id": "008a7ba3",
   "metadata": {},
   "outputs": [
    {
     "name": "stdout",
     "output_type": "stream",
     "text": [
      "<class 'pandas.core.frame.DataFrame'>\n",
      "RangeIndex: 23967 entries, 0 to 23966\n",
      "Data columns (total 9 columns):\n",
      " #   Column        Non-Null Count  Dtype \n",
      "---  ------        --------------  ----- \n",
      " 0   date          23967 non-null  object\n",
      " 1   type          23967 non-null  object\n",
      " 2   registration  22419 non-null  object\n",
      " 3   operator      23963 non-null  object\n",
      " 4   fatalities    23967 non-null  int64 \n",
      " 5   location      23019 non-null  object\n",
      " 6   country       23967 non-null  object\n",
      " 7   cat           23967 non-null  object\n",
      " 8   year          23967 non-null  object\n",
      "dtypes: int64(1), object(8)\n",
      "memory usage: 1.6+ MB\n"
     ]
    }
   ],
   "source": [
    "df.info()"
   ]
  },
  {
   "cell_type": "code",
   "execution_count": 227,
   "id": "67d04de6",
   "metadata": {},
   "outputs": [
    {
     "data": {
      "text/plain": [
       "date               0\n",
       "type               0\n",
       "registration    1548\n",
       "operator           4\n",
       "fatalities         0\n",
       "location         948\n",
       "country            0\n",
       "cat                0\n",
       "year               0\n",
       "dtype: int64"
      ]
     },
     "execution_count": 227,
     "metadata": {},
     "output_type": "execute_result"
    }
   ],
   "source": [
    "df.isna().sum()"
   ]
  },
  {
   "cell_type": "code",
   "execution_count": 228,
   "id": "63ef7758",
   "metadata": {},
   "outputs": [
    {
     "data": {
      "text/html": [
       "<div>\n",
       "<style scoped>\n",
       "    .dataframe tbody tr th:only-of-type {\n",
       "        vertical-align: middle;\n",
       "    }\n",
       "\n",
       "    .dataframe tbody tr th {\n",
       "        vertical-align: top;\n",
       "    }\n",
       "\n",
       "    .dataframe thead th {\n",
       "        text-align: right;\n",
       "    }\n",
       "</style>\n",
       "<table border=\"1\" class=\"dataframe\">\n",
       "  <thead>\n",
       "    <tr style=\"text-align: right;\">\n",
       "      <th></th>\n",
       "      <th>date</th>\n",
       "      <th>type</th>\n",
       "      <th>registration</th>\n",
       "      <th>operator</th>\n",
       "      <th>fatalities</th>\n",
       "      <th>location</th>\n",
       "      <th>country</th>\n",
       "      <th>cat</th>\n",
       "      <th>year</th>\n",
       "    </tr>\n",
       "  </thead>\n",
       "  <tbody>\n",
       "    <tr>\n",
       "      <th>22071</th>\n",
       "      <td>10-MAR-2014</td>\n",
       "      <td>Learjet 35A</td>\n",
       "      <td>LV-ZSZ</td>\n",
       "      <td>NaN</td>\n",
       "      <td>0</td>\n",
       "      <td>San Fernando, BA</td>\n",
       "      <td>Argentina</td>\n",
       "      <td>A2</td>\n",
       "      <td>2014</td>\n",
       "    </tr>\n",
       "    <tr>\n",
       "      <th>23326</th>\n",
       "      <td>16-NOV-2019</td>\n",
       "      <td>Bombardier CRJ-900</td>\n",
       "      <td>NaN</td>\n",
       "      <td>NaN</td>\n",
       "      <td>0</td>\n",
       "      <td>DÃ¼sseldorf Inte...</td>\n",
       "      <td>Germany</td>\n",
       "      <td>A2</td>\n",
       "      <td>2019</td>\n",
       "    </tr>\n",
       "    <tr>\n",
       "      <th>23853</th>\n",
       "      <td>31-AUG-2022</td>\n",
       "      <td>Cessna 208 Caravan</td>\n",
       "      <td>NaN</td>\n",
       "      <td>NaN</td>\n",
       "      <td>0</td>\n",
       "      <td>near Abu Dhabi-Bateen...</td>\n",
       "      <td>U.A.E.</td>\n",
       "      <td>A1</td>\n",
       "      <td>2022</td>\n",
       "    </tr>\n",
       "    <tr>\n",
       "      <th>23918</th>\n",
       "      <td>27-JAN-2023</td>\n",
       "      <td>Ilyushin Il-18D</td>\n",
       "      <td>TL-KBR</td>\n",
       "      <td>NaN</td>\n",
       "      <td>0</td>\n",
       "      <td>Al-Khadim Air Base</td>\n",
       "      <td>Libya</td>\n",
       "      <td>O1</td>\n",
       "      <td>2023</td>\n",
       "    </tr>\n",
       "  </tbody>\n",
       "</table>\n",
       "</div>"
      ],
      "text/plain": [
       "              date                type registration operator  fatalities  \\\n",
       "22071  10-MAR-2014         Learjet 35A       LV-ZSZ      NaN           0   \n",
       "23326  16-NOV-2019  Bombardier CRJ-900          NaN      NaN           0   \n",
       "23853  31-AUG-2022  Cessna 208 Caravan          NaN      NaN           0   \n",
       "23918  27-JAN-2023     Ilyushin Il-18D       TL-KBR      NaN           0   \n",
       "\n",
       "                       location    country cat  year  \n",
       "22071          San Fernando, BA  Argentina  A2  2014  \n",
       "23326       DÃ¼sseldorf Inte...    Germany  A2  2019  \n",
       "23853  near Abu Dhabi-Bateen...     U.A.E.  A1  2022  \n",
       "23918        Al-Khadim Air Base      Libya  O1  2023  "
      ]
     },
     "execution_count": 228,
     "metadata": {},
     "output_type": "execute_result"
    }
   ],
   "source": [
    "#check for full columns where operations is NaN\n",
    "df[df['operator'].isna()]\n"
   ]
  },
  {
   "cell_type": "code",
   "execution_count": 229,
   "id": "921149be",
   "metadata": {},
   "outputs": [
    {
     "name": "stdout",
     "output_type": "stream",
     "text": [
      "[('-', 'Antonov An-2R', 'PZL-Mielec'), ('-', 'Antonov An-2R', 'PZL-Mielec')]\n"
     ]
    }
   ],
   "source": [
    "#to check the type and registration columns for same values where operator is PZL-Mielec\n",
    "filtered = df[(df['operator'] == 'PZL-Mielec') & (df['type'] == 'Antonov An-2R')]\n",
    "\n",
    "dbs = list(zip(filtered['registration'], filtered['type'], filtered['operator']))\n",
    "print(dbs)\n"
   ]
  },
  {
   "cell_type": "code",
   "execution_count": 230,
   "id": "93ab812d",
   "metadata": {},
   "outputs": [],
   "source": [
    "df['operator'].fillna('unknown', inplace=True)"
   ]
  },
  {
   "cell_type": "code",
   "execution_count": 231,
   "id": "4c4a6625",
   "metadata": {},
   "outputs": [
    {
     "data": {
      "text/plain": [
       "date               0\n",
       "type               0\n",
       "registration    1548\n",
       "operator           0\n",
       "fatalities         0\n",
       "location         948\n",
       "country            0\n",
       "cat                0\n",
       "year               0\n",
       "dtype: int64"
      ]
     },
     "execution_count": 231,
     "metadata": {},
     "output_type": "execute_result"
    }
   ],
   "source": [
    "df.isna().sum()"
   ]
  },
  {
   "cell_type": "code",
   "execution_count": 232,
   "id": "ec153670",
   "metadata": {},
   "outputs": [],
   "source": [
    "df['location'].fillna('Unknown', inplace=True)\n"
   ]
  },
  {
   "cell_type": "code",
   "execution_count": 233,
   "id": "2d0cd4c9",
   "metadata": {},
   "outputs": [
    {
     "data": {
      "text/plain": [
       "date               0\n",
       "type               0\n",
       "registration    1548\n",
       "operator           0\n",
       "fatalities         0\n",
       "location           0\n",
       "country            0\n",
       "cat                0\n",
       "year               0\n",
       "dtype: int64"
      ]
     },
     "execution_count": 233,
     "metadata": {},
     "output_type": "execute_result"
    }
   ],
   "source": [
    "df.isna().sum()"
   ]
  },
  {
   "cell_type": "code",
   "execution_count": 234,
   "id": "0627849f",
   "metadata": {},
   "outputs": [
    {
     "data": {
      "text/plain": [
       "LZ-...      13\n",
       "-           11\n",
       "unreg.       6\n",
       "39           5\n",
       "48           4\n",
       "            ..\n",
       "N130UE       1\n",
       "42-61052     1\n",
       "44-77355     1\n",
       "G-ADUU       1\n",
       "N72MM        1\n",
       "Name: registration, Length: 21962, dtype: int64"
      ]
     },
     "execution_count": 234,
     "metadata": {},
     "output_type": "execute_result"
    }
   ],
   "source": [
    "df['registration'].value_counts()"
   ]
  },
  {
   "cell_type": "code",
   "execution_count": 235,
   "id": "6a19ba3d",
   "metadata": {},
   "outputs": [
    {
     "data": {
      "text/html": [
       "<div>\n",
       "<style scoped>\n",
       "    .dataframe tbody tr th:only-of-type {\n",
       "        vertical-align: middle;\n",
       "    }\n",
       "\n",
       "    .dataframe tbody tr th {\n",
       "        vertical-align: top;\n",
       "    }\n",
       "\n",
       "    .dataframe thead th {\n",
       "        text-align: right;\n",
       "    }\n",
       "</style>\n",
       "<table border=\"1\" class=\"dataframe\">\n",
       "  <thead>\n",
       "    <tr style=\"text-align: right;\">\n",
       "      <th></th>\n",
       "      <th>date</th>\n",
       "      <th>type</th>\n",
       "      <th>registration</th>\n",
       "      <th>operator</th>\n",
       "      <th>fatalities</th>\n",
       "      <th>location</th>\n",
       "      <th>country</th>\n",
       "      <th>cat</th>\n",
       "      <th>year</th>\n",
       "    </tr>\n",
       "  </thead>\n",
       "  <tbody>\n",
       "    <tr>\n",
       "      <th>0</th>\n",
       "      <td>date unk.</td>\n",
       "      <td>Antonov An-12B</td>\n",
       "      <td>T-1206</td>\n",
       "      <td>Indonesian AF</td>\n",
       "      <td>0</td>\n",
       "      <td>Unknown</td>\n",
       "      <td>Unknown country</td>\n",
       "      <td>U1</td>\n",
       "      <td>unknown</td>\n",
       "    </tr>\n",
       "    <tr>\n",
       "      <th>1</th>\n",
       "      <td>date unk.</td>\n",
       "      <td>Antonov An-12B</td>\n",
       "      <td>T-1204</td>\n",
       "      <td>Indonesian AF</td>\n",
       "      <td>0</td>\n",
       "      <td>Unknown</td>\n",
       "      <td>Unknown country</td>\n",
       "      <td>U1</td>\n",
       "      <td>unknown</td>\n",
       "    </tr>\n",
       "    <tr>\n",
       "      <th>2</th>\n",
       "      <td>date unk.</td>\n",
       "      <td>Antonov An-12B</td>\n",
       "      <td>T-1201</td>\n",
       "      <td>Indonesian AF</td>\n",
       "      <td>0</td>\n",
       "      <td>Unknown</td>\n",
       "      <td>Unknown country</td>\n",
       "      <td>U1</td>\n",
       "      <td>unknown</td>\n",
       "    </tr>\n",
       "    <tr>\n",
       "      <th>3</th>\n",
       "      <td>date unk.</td>\n",
       "      <td>Antonov An-12BK</td>\n",
       "      <td>NaN</td>\n",
       "      <td>Soviet AF</td>\n",
       "      <td>0</td>\n",
       "      <td>Tiksi Airport (IKS)</td>\n",
       "      <td>Russia</td>\n",
       "      <td>A1</td>\n",
       "      <td>unknown</td>\n",
       "    </tr>\n",
       "    <tr>\n",
       "      <th>4</th>\n",
       "      <td>date unk.</td>\n",
       "      <td>Antonov An-12BP</td>\n",
       "      <td>CCCP-11815</td>\n",
       "      <td>Soviet AF</td>\n",
       "      <td>0</td>\n",
       "      <td>Massawa Airport ...</td>\n",
       "      <td>Eritrea</td>\n",
       "      <td>A1</td>\n",
       "      <td>unknown</td>\n",
       "    </tr>\n",
       "  </tbody>\n",
       "</table>\n",
       "</div>"
      ],
      "text/plain": [
       "        date             type registration       operator  fatalities  \\\n",
       "0  date unk.   Antonov An-12B       T-1206  Indonesian AF           0   \n",
       "1  date unk.   Antonov An-12B       T-1204  Indonesian AF           0   \n",
       "2  date unk.   Antonov An-12B       T-1201  Indonesian AF           0   \n",
       "3  date unk.  Antonov An-12BK          NaN      Soviet AF           0   \n",
       "4  date unk.  Antonov An-12BP   CCCP-11815      Soviet AF           0   \n",
       "\n",
       "              location          country cat     year  \n",
       "0              Unknown  Unknown country  U1  unknown  \n",
       "1              Unknown  Unknown country  U1  unknown  \n",
       "2              Unknown  Unknown country  U1  unknown  \n",
       "3  Tiksi Airport (IKS)           Russia  A1  unknown  \n",
       "4  Massawa Airport ...          Eritrea  A1  unknown  "
      ]
     },
     "execution_count": 235,
     "metadata": {},
     "output_type": "execute_result"
    }
   ],
   "source": [
    "df.head()"
   ]
  },
  {
   "cell_type": "code",
   "execution_count": 236,
   "id": "2a7d2790",
   "metadata": {},
   "outputs": [],
   "source": [
    "df['registration'].fillna('Unknown', inplace=True)"
   ]
  },
  {
   "cell_type": "code",
   "execution_count": 237,
   "id": "a4df7faa",
   "metadata": {},
   "outputs": [
    {
     "name": "stdout",
     "output_type": "stream",
     "text": [
      "<class 'pandas.core.frame.DataFrame'>\n",
      "RangeIndex: 23967 entries, 0 to 23966\n",
      "Data columns (total 9 columns):\n",
      " #   Column        Non-Null Count  Dtype \n",
      "---  ------        --------------  ----- \n",
      " 0   date          23967 non-null  object\n",
      " 1   type          23967 non-null  object\n",
      " 2   registration  23967 non-null  object\n",
      " 3   operator      23967 non-null  object\n",
      " 4   fatalities    23967 non-null  int64 \n",
      " 5   location      23967 non-null  object\n",
      " 6   country       23967 non-null  object\n",
      " 7   cat           23967 non-null  object\n",
      " 8   year          23967 non-null  object\n",
      "dtypes: int64(1), object(8)\n",
      "memory usage: 1.6+ MB\n"
     ]
    }
   ],
   "source": [
    "df.info()"
   ]
  },
  {
   "cell_type": "code",
   "execution_count": 238,
   "id": "56f9a339",
   "metadata": {},
   "outputs": [
    {
     "data": {
      "text/plain": [
       "116"
      ]
     },
     "execution_count": 238,
     "metadata": {},
     "output_type": "execute_result"
    }
   ],
   "source": [
    "df.duplicated().sum()"
   ]
  },
  {
   "cell_type": "code",
   "execution_count": 239,
   "id": "cfeb420b",
   "metadata": {},
   "outputs": [
    {
     "name": "stdout",
     "output_type": "stream",
     "text": [
      "<class 'pandas.core.frame.DataFrame'>\n",
      "Int64Index: 23851 entries, 0 to 23966\n",
      "Data columns (total 9 columns):\n",
      " #   Column        Non-Null Count  Dtype \n",
      "---  ------        --------------  ----- \n",
      " 0   date          23851 non-null  object\n",
      " 1   type          23851 non-null  object\n",
      " 2   registration  23851 non-null  object\n",
      " 3   operator      23851 non-null  object\n",
      " 4   fatalities    23851 non-null  int64 \n",
      " 5   location      23851 non-null  object\n",
      " 6   country       23851 non-null  object\n",
      " 7   cat           23851 non-null  object\n",
      " 8   year          23851 non-null  object\n",
      "dtypes: int64(1), object(8)\n",
      "memory usage: 1.8+ MB\n"
     ]
    }
   ],
   "source": [
    "df.drop_duplicates(inplace=True)\n",
    "df.info()"
   ]
  },
  {
   "cell_type": "code",
   "execution_count": 242,
   "id": "d2589971",
   "metadata": {},
   "outputs": [],
   "source": [
    "df['date'] = pd.to_datetime(df['date'], errors='coerce')"
   ]
  },
  {
   "cell_type": "code",
   "execution_count": 243,
   "id": "9f13a637",
   "metadata": {},
   "outputs": [
    {
     "name": "stdout",
     "output_type": "stream",
     "text": [
      "<class 'pandas.core.frame.DataFrame'>\n",
      "Int64Index: 23851 entries, 0 to 23966\n",
      "Data columns (total 9 columns):\n",
      " #   Column        Non-Null Count  Dtype         \n",
      "---  ------        --------------  -----         \n",
      " 0   date          23302 non-null  datetime64[ns]\n",
      " 1   type          23851 non-null  object        \n",
      " 2   registration  23851 non-null  object        \n",
      " 3   operator      23851 non-null  object        \n",
      " 4   fatalities    23851 non-null  int64         \n",
      " 5   location      23851 non-null  object        \n",
      " 6   country       23851 non-null  object        \n",
      " 7   cat           23851 non-null  object        \n",
      " 8   year          23851 non-null  object        \n",
      "dtypes: datetime64[ns](1), int64(1), object(7)\n",
      "memory usage: 1.8+ MB\n"
     ]
    }
   ],
   "source": [
    "df.info()"
   ]
  },
  {
   "cell_type": "code",
   "execution_count": 244,
   "id": "3010b960",
   "metadata": {},
   "outputs": [
    {
     "data": {
      "text/html": [
       "<div>\n",
       "<style scoped>\n",
       "    .dataframe tbody tr th:only-of-type {\n",
       "        vertical-align: middle;\n",
       "    }\n",
       "\n",
       "    .dataframe tbody tr th {\n",
       "        vertical-align: top;\n",
       "    }\n",
       "\n",
       "    .dataframe thead th {\n",
       "        text-align: right;\n",
       "    }\n",
       "</style>\n",
       "<table border=\"1\" class=\"dataframe\">\n",
       "  <thead>\n",
       "    <tr style=\"text-align: right;\">\n",
       "      <th></th>\n",
       "      <th>date</th>\n",
       "      <th>type</th>\n",
       "      <th>registration</th>\n",
       "      <th>operator</th>\n",
       "      <th>fatalities</th>\n",
       "      <th>location</th>\n",
       "      <th>country</th>\n",
       "      <th>cat</th>\n",
       "      <th>year</th>\n",
       "    </tr>\n",
       "  </thead>\n",
       "  <tbody>\n",
       "    <tr>\n",
       "      <th>0</th>\n",
       "      <td>NaT</td>\n",
       "      <td>Antonov An-12B</td>\n",
       "      <td>T-1206</td>\n",
       "      <td>Indonesian AF</td>\n",
       "      <td>0</td>\n",
       "      <td>Unknown</td>\n",
       "      <td>Unknown country</td>\n",
       "      <td>U1</td>\n",
       "      <td>unknown</td>\n",
       "    </tr>\n",
       "    <tr>\n",
       "      <th>1</th>\n",
       "      <td>NaT</td>\n",
       "      <td>Antonov An-12B</td>\n",
       "      <td>T-1204</td>\n",
       "      <td>Indonesian AF</td>\n",
       "      <td>0</td>\n",
       "      <td>Unknown</td>\n",
       "      <td>Unknown country</td>\n",
       "      <td>U1</td>\n",
       "      <td>unknown</td>\n",
       "    </tr>\n",
       "    <tr>\n",
       "      <th>2</th>\n",
       "      <td>NaT</td>\n",
       "      <td>Antonov An-12B</td>\n",
       "      <td>T-1201</td>\n",
       "      <td>Indonesian AF</td>\n",
       "      <td>0</td>\n",
       "      <td>Unknown</td>\n",
       "      <td>Unknown country</td>\n",
       "      <td>U1</td>\n",
       "      <td>unknown</td>\n",
       "    </tr>\n",
       "    <tr>\n",
       "      <th>3</th>\n",
       "      <td>NaT</td>\n",
       "      <td>Antonov An-12BK</td>\n",
       "      <td>Unknown</td>\n",
       "      <td>Soviet AF</td>\n",
       "      <td>0</td>\n",
       "      <td>Tiksi Airport (IKS)</td>\n",
       "      <td>Russia</td>\n",
       "      <td>A1</td>\n",
       "      <td>unknown</td>\n",
       "    </tr>\n",
       "    <tr>\n",
       "      <th>4</th>\n",
       "      <td>NaT</td>\n",
       "      <td>Antonov An-12BP</td>\n",
       "      <td>CCCP-11815</td>\n",
       "      <td>Soviet AF</td>\n",
       "      <td>0</td>\n",
       "      <td>Massawa Airport ...</td>\n",
       "      <td>Eritrea</td>\n",
       "      <td>A1</td>\n",
       "      <td>unknown</td>\n",
       "    </tr>\n",
       "  </tbody>\n",
       "</table>\n",
       "</div>"
      ],
      "text/plain": [
       "  date             type registration       operator  fatalities  \\\n",
       "0  NaT   Antonov An-12B       T-1206  Indonesian AF           0   \n",
       "1  NaT   Antonov An-12B       T-1204  Indonesian AF           0   \n",
       "2  NaT   Antonov An-12B       T-1201  Indonesian AF           0   \n",
       "3  NaT  Antonov An-12BK      Unknown      Soviet AF           0   \n",
       "4  NaT  Antonov An-12BP   CCCP-11815      Soviet AF           0   \n",
       "\n",
       "              location          country cat     year  \n",
       "0              Unknown  Unknown country  U1  unknown  \n",
       "1              Unknown  Unknown country  U1  unknown  \n",
       "2              Unknown  Unknown country  U1  unknown  \n",
       "3  Tiksi Airport (IKS)           Russia  A1  unknown  \n",
       "4  Massawa Airport ...          Eritrea  A1  unknown  "
      ]
     },
     "execution_count": 244,
     "metadata": {},
     "output_type": "execute_result"
    }
   ],
   "source": [
    "df.head()"
   ]
  },
  {
   "cell_type": "code",
   "execution_count": 245,
   "id": "21a6ecd2",
   "metadata": {},
   "outputs": [
    {
     "data": {
      "text/plain": [
       "1940-05-10    80\n",
       "1945-03-24    50\n",
       "1944-06-06    41\n",
       "1944-09-17    35\n",
       "1944-09-19    28\n",
       "              ..\n",
       "2020-11-12     1\n",
       "2018-08-01     1\n",
       "2012-11-15     1\n",
       "2009-06-13     1\n",
       "1970-01-01     1\n",
       "Name: date, Length: 14814, dtype: int64"
      ]
     },
     "execution_count": 245,
     "metadata": {},
     "output_type": "execute_result"
    }
   ],
   "source": [
    "df['date'].value_counts()"
   ]
  }
 ],
 "metadata": {
  "kernelspec": {
   "display_name": "learn-env",
   "language": "python",
   "name": "python3"
  },
  "language_info": {
   "codemirror_mode": {
    "name": "ipython",
    "version": 3
   },
   "file_extension": ".py",
   "mimetype": "text/x-python",
   "name": "python",
   "nbconvert_exporter": "python",
   "pygments_lexer": "ipython3",
   "version": "3.8.5"
  }
 },
 "nbformat": 4,
 "nbformat_minor": 5
}
