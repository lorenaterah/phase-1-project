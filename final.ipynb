{
 "cells": [
  {
   "cell_type": "markdown",
   "metadata": {},
   "source": [
    "# Aviation Accident Data Analysis"
   ]
  },
  {
   "cell_type": "markdown",
   "metadata": {},
   "source": [
    "# Goals\n",
    "To determine which aircrafts have the lowest risk for the company to start this business.\n"
   ]
  },
  {
   "cell_type": "markdown",
   "metadata": {},
   "source": [
    "## Data\n",
    "This dataset provides a comprehensive record of aircraft accidents that occurred between the years 1919 and 2023. This dataset captures crucial details of each accident, including the date of the incident, registration number of the aircraft involved, the country where the accident occurred, the specific location, the category of the accident, and the number of fatalities.\n",
    "\n",
    "Accident Categories:\n",
    "\n",
    "A = Accident\n",
    "\n",
    "I = Incident\n",
    "\n",
    "H = Hijacking\n",
    "\n",
    "C = Criminal occurrence (sabotage, shoot down) O= other occurrence (ground fire, sabotage)\n",
    "\n",
    "U = type of occurrence unknown\n",
    "\n",
    "1 = hull-loss\n",
    "\n",
    "2 = repairable damage\n",
    "\n",
    "Fatalities hold both aircraft and ground fatalities\n",
    "The dataset contains 9 columns and  23967 entries\n",
    "\n",
    "  * Year: Timeline for trend analysis.\n",
    "  * Aircraft Type: Identifies fleet-specific safety records.\n",
    "  * Operator: Links safety outcomes to carriers/companies.\n",
    "  * country/Location: Context for geographical risk.\n",
    "  * Accident Category: Nature of incident (e.g., mechanical, weather-related).\n",
    "  * Fatalities (Total/Aboard/Ground): Severity indicators for accidents.\n",
    "\n",
    "# Limitations\n",
    "Some missing or incomplete records (e.g., unknown year or operator) reduce completeness.\n",
    "Historical focus may not fully capture newer aircraft models or regulatory changes.\n",
    "Regional reporting standards may vary, leading to inconsistencies.\n",
    "Does not include external variables like weather, maintenance history, or pilot experience, which also influence safety."
   ]
  },
  {
   "cell_type": "code",
   "execution_count": 86,
   "metadata": {},
   "outputs": [],
   "source": [
    "import pandas as pd\n",
    "import numpy as np\n",
    "import matplotlib.pyplot as plt\n",
    "import seaborn as sns"
   ]
  },
  {
   "cell_type": "code",
   "execution_count": 87,
   "metadata": {},
   "outputs": [
    {
     "name": "stdout",
     "output_type": "stream",
     "text": [
      "<class 'pandas.core.frame.DataFrame'>\n",
      "RangeIndex: 23967 entries, 0 to 23966\n",
      "Data columns (total 9 columns):\n",
      " #   Column        Non-Null Count  Dtype \n",
      "---  ------        --------------  ----- \n",
      " 0   date          23967 non-null  object\n",
      " 1   type          23967 non-null  object\n",
      " 2   registration  22419 non-null  object\n",
      " 3   operator      23963 non-null  object\n",
      " 4   fatalities    20029 non-null  object\n",
      " 5   location      23019 non-null  object\n",
      " 6   country       23967 non-null  object\n",
      " 7   cat           23967 non-null  object\n",
      " 8   year          23967 non-null  object\n",
      "dtypes: object(9)\n",
      "memory usage: 1.6+ MB\n"
     ]
    }
   ],
   "source": [
    "df = pd.read_csv('./Data/aviation-accident-data-2023-05-16.csv')\n",
    "df.info()"
   ]
  },
  {
   "cell_type": "markdown",
   "metadata": {},
   "source": [
    "## Methods\n",
    "Cleaning data through inputing missing values, removing duplicates, aligning datatypes, renaming columns\n"
   ]
  },
  {
   "cell_type": "code",
   "execution_count": 88,
   "metadata": {},
   "outputs": [],
   "source": [
    "df.rename(columns={'cat': 'accident_category'}, inplace=True)"
   ]
  },
  {
   "cell_type": "code",
   "execution_count": 89,
   "metadata": {},
   "outputs": [],
   "source": [
    "df.duplicated().sum()   \n",
    "df.drop_duplicates(inplace=True)"
   ]
  },
  {
   "cell_type": "code",
   "execution_count": 90,
   "metadata": {},
   "outputs": [],
   "source": [
    "# to separate aircraft fatalities from the fatalities\n",
    "df['aircraft_fatalities'] = df['fatalities'].apply(\n",
    "    lambda x: int(str(x).split('+')[0].strip()) \n",
    "    if isinstance(x, str) and '+' in x and str(x).split('+')[0].strip().isdigit()\n",
    "    else int(x) if str(x).isdigit()\n",
    "    else np.nan\n",
    ")"
   ]
  },
  {
   "cell_type": "code",
   "execution_count": 91,
   "metadata": {},
   "outputs": [],
   "source": [
    "## to separate ground fatalities from the fatalities\n",
    "df['ground_fatalities'] = df['fatalities'].apply(\n",
    "    lambda x: int(str(x).split('+')[1].strip()) \n",
    "    if isinstance(x, str) and '+' in x and str(x).split('+')[1].strip().isdigit()\n",
    "    else 0 if str(x).isdigit()\n",
    "    else np.nan\n",
    ")"
   ]
  },
  {
   "cell_type": "code",
   "execution_count": 92,
   "metadata": {},
   "outputs": [],
   "source": [
    "# to get total fatalities\n",
    "df.rename(columns={'fatalities': 'total_fatalities'}, inplace=True)\n",
    "df['total_fatalities'] = df['total_fatalities'].apply(\n",
    "    lambda x: sum(int(part.strip()) for part in str(x).split('+')) \n",
    "    if isinstance(x, str) and '+' in x \n",
    "    else int(x) if str(x).isdigit() \n",
    "    else x\n",
    ")"
   ]
  },
  {
   "cell_type": "code",
   "execution_count": 93,
   "metadata": {},
   "outputs": [],
   "source": [
    "#dropping rows with a number of missing columns to mantain accuracy of data\n",
    "df = df[df.isna().sum(axis=1) <= 3]"
   ]
  },
  {
   "cell_type": "code",
   "execution_count": 94,
   "metadata": {},
   "outputs": [],
   "source": [
    "df['total_fatalities'].fillna(df['total_fatalities'].median(), inplace=True)\n",
    "df['aircraft_fatalities'].fillna(df['aircraft_fatalities'].median(), inplace=True)\n",
    "df['ground_fatalities'].fillna(df['ground_fatalities'].median(), inplace=True)"
   ]
  },
  {
   "cell_type": "code",
   "execution_count": 95,
   "metadata": {},
   "outputs": [],
   "source": [
    "df['date'] = pd.to_datetime(df['date'], errors='coerce')\n",
    "df['year'] = pd.to_datetime(df['year'], errors='coerce')"
   ]
  },
  {
   "cell_type": "code",
   "execution_count": 96,
   "metadata": {},
   "outputs": [],
   "source": [
    "df.dropna(subset=['date', 'year'], inplace=True)"
   ]
  },
  {
   "cell_type": "code",
   "execution_count": 97,
   "metadata": {},
   "outputs": [],
   "source": [
    "df['registration'].fillna('Unknown', inplace= True)\n",
    "df['location'].fillna('Unknown location', inplace= True)\n",
    "df['operator'].fillna('Unknown', inplace= True)"
   ]
  },
  {
   "cell_type": "code",
   "execution_count": 98,
   "metadata": {},
   "outputs": [],
   "source": [
    "df['total_fatalities'] = df['total_fatalities'].astype(int)\n",
    "df['ground_fatalities'] = df['ground_fatalities'].astype(int)\n",
    "df['aircraft_fatalities'] = df['aircraft_fatalities'].astype(int)\n",
    "df['operator'] = df['operator'].astype('category')\n",
    "df['accident_category'] = df['accident_category'].astype('category')\n",
    "df['type'] = df['type'].astype('category')"
   ]
  },
  {
   "cell_type": "code",
   "execution_count": 99,
   "metadata": {},
   "outputs": [
    {
     "name": "stdout",
     "output_type": "stream",
     "text": [
      "<class 'pandas.core.frame.DataFrame'>\n",
      "Int64Index: 22581 entries, 61 to 23966\n",
      "Data columns (total 11 columns):\n",
      " #   Column               Non-Null Count  Dtype         \n",
      "---  ------               --------------  -----         \n",
      " 0   date                 22581 non-null  datetime64[ns]\n",
      " 1   type                 22581 non-null  category      \n",
      " 2   registration         22581 non-null  object        \n",
      " 3   operator             22581 non-null  category      \n",
      " 4   total_fatalities     22581 non-null  int32         \n",
      " 5   location             22581 non-null  object        \n",
      " 6   country              22581 non-null  object        \n",
      " 7   accident_category    22581 non-null  category      \n",
      " 8   year                 22581 non-null  datetime64[ns]\n",
      " 9   aircraft_fatalities  22581 non-null  int32         \n",
      " 10  ground_fatalities    22581 non-null  int32         \n",
      "dtypes: category(3), datetime64[ns](2), int32(3), object(3)\n",
      "memory usage: 1.8+ MB\n"
     ]
    }
   ],
   "source": [
    "df.info()"
   ]
  },
  {
   "cell_type": "code",
   "execution_count": 100,
   "metadata": {},
   "outputs": [],
   "source": [
    "columns = ['operator', 'accident_category', 'type']\n",
    "df[columns] = df[columns].apply(lambda x: x.str.strip())"
   ]
  },
  {
   "cell_type": "markdown",
   "metadata": {},
   "source": [
    "## Results"
   ]
  },
  {
   "cell_type": "code",
   "execution_count": 101,
   "metadata": {},
   "outputs": [],
   "source": [
    "df.to_csv('./Data/cleaned_aviation_data.csv', index=False)"
   ]
  },
  {
   "cell_type": "markdown",
   "metadata": {},
   "source": [
    "### Business Recommendation 1\n",
    "Buying most occuring aircrafts which have the least fatalities per occurence. The implication being that the most common aircrafts are those in the market and can withstand accidents. Curtiss C-46A, Antonov An-2R, Douglas Dakota III (DC-3) are the most preferable options"
   ]
  },
  {
   "cell_type": "code",
   "execution_count": 102,
   "metadata": {},
   "outputs": [
    {
     "data": {
      "text/html": [
       "<div>\n",
       "<style scoped>\n",
       "    .dataframe tbody tr th:only-of-type {\n",
       "        vertical-align: middle;\n",
       "    }\n",
       "\n",
       "    .dataframe tbody tr th {\n",
       "        vertical-align: top;\n",
       "    }\n",
       "\n",
       "    .dataframe thead th {\n",
       "        text-align: right;\n",
       "    }\n",
       "</style>\n",
       "<table border=\"1\" class=\"dataframe\">\n",
       "  <thead>\n",
       "    <tr style=\"text-align: right;\">\n",
       "      <th></th>\n",
       "      <th>occurrences</th>\n",
       "      <th>total_fatalities</th>\n",
       "      <th>fatalities_per_occurrence</th>\n",
       "    </tr>\n",
       "    <tr>\n",
       "      <th>type</th>\n",
       "      <th></th>\n",
       "      <th></th>\n",
       "      <th></th>\n",
       "    </tr>\n",
       "  </thead>\n",
       "  <tbody>\n",
       "    <tr>\n",
       "      <th>Douglas C-47A (DC-3)</th>\n",
       "      <td>1871</td>\n",
       "      <td>5780</td>\n",
       "      <td>3.089257</td>\n",
       "    </tr>\n",
       "    <tr>\n",
       "      <th>Douglas C-47 (DC-3)</th>\n",
       "      <td>626</td>\n",
       "      <td>2665</td>\n",
       "      <td>4.257188</td>\n",
       "    </tr>\n",
       "    <tr>\n",
       "      <th>Douglas C-47B (DC-3)</th>\n",
       "      <td>572</td>\n",
       "      <td>2017</td>\n",
       "      <td>3.526224</td>\n",
       "    </tr>\n",
       "    <tr>\n",
       "      <th>Curtiss C-46A</th>\n",
       "      <td>450</td>\n",
       "      <td>869</td>\n",
       "      <td>1.931111</td>\n",
       "    </tr>\n",
       "    <tr>\n",
       "      <th>Antonov An-2R</th>\n",
       "      <td>349</td>\n",
       "      <td>291</td>\n",
       "      <td>0.833811</td>\n",
       "    </tr>\n",
       "    <tr>\n",
       "      <th>Douglas Dakota III (DC-3)</th>\n",
       "      <td>260</td>\n",
       "      <td>668</td>\n",
       "      <td>2.569231</td>\n",
       "    </tr>\n",
       "    <tr>\n",
       "      <th>Junkers Ju-52/3m</th>\n",
       "      <td>257</td>\n",
       "      <td>1107</td>\n",
       "      <td>4.307393</td>\n",
       "    </tr>\n",
       "    <tr>\n",
       "      <th>DHC-6 Twin Otter 300</th>\n",
       "      <td>251</td>\n",
       "      <td>1056</td>\n",
       "      <td>4.207171</td>\n",
       "    </tr>\n",
       "    <tr>\n",
       "      <th>Cessna 208B Grand Caravan</th>\n",
       "      <td>247</td>\n",
       "      <td>322</td>\n",
       "      <td>1.303644</td>\n",
       "    </tr>\n",
       "    <tr>\n",
       "      <th>Douglas Dakota IV (DC-3)</th>\n",
       "      <td>200</td>\n",
       "      <td>584</td>\n",
       "      <td>2.920000</td>\n",
       "    </tr>\n",
       "  </tbody>\n",
       "</table>\n",
       "</div>"
      ],
      "text/plain": [
       "                           occurrences  total_fatalities  \\\n",
       "type                                                       \n",
       "Douglas C-47A (DC-3)              1871              5780   \n",
       "Douglas C-47 (DC-3)                626              2665   \n",
       "Douglas C-47B (DC-3)               572              2017   \n",
       "Curtiss C-46A                      450               869   \n",
       "Antonov An-2R                      349               291   \n",
       "Douglas Dakota III (DC-3)          260               668   \n",
       "Junkers Ju-52/3m                   257              1107   \n",
       "DHC-6 Twin Otter 300               251              1056   \n",
       "Cessna 208B Grand Caravan          247               322   \n",
       "Douglas Dakota IV (DC-3)           200               584   \n",
       "\n",
       "                           fatalities_per_occurrence  \n",
       "type                                                  \n",
       "Douglas C-47A (DC-3)                        3.089257  \n",
       "Douglas C-47 (DC-3)                         4.257188  \n",
       "Douglas C-47B (DC-3)                        3.526224  \n",
       "Curtiss C-46A                               1.931111  \n",
       "Antonov An-2R                               0.833811  \n",
       "Douglas Dakota III (DC-3)                   2.569231  \n",
       "Junkers Ju-52/3m                            4.307393  \n",
       "DHC-6 Twin Otter 300                        4.207171  \n",
       "Cessna 208B Grand Caravan                   1.303644  \n",
       "Douglas Dakota IV (DC-3)                    2.920000  "
      ]
     },
     "execution_count": 102,
     "metadata": {},
     "output_type": "execute_result"
    }
   ],
   "source": [
    "\n",
    "plane_stats = df.groupby('type').agg(\n",
    "    occurrences=('type', 'count'),\n",
    "    total_fatalities=('total_fatalities', 'sum')\n",
    ").sort_values(by=['occurrences', 'total_fatalities'], ascending=[False, True])\n",
    "\n",
    "plane_stats['fatalities_per_occurrence'] = plane_stats['total_fatalities'] / plane_stats['occurrences']\n",
    "plane_stats.head(10)"
   ]
  },
  {
   "cell_type": "markdown",
   "metadata": {},
   "source": [
    "### Business Recommendation 2\n",
    "Purchasing aircrafts that were involved in accidents but resulted in zero fatalities in the past 20 years.  "
   ]
  },
  {
   "cell_type": "code",
   "execution_count": 103,
   "metadata": {},
   "outputs": [
    {
     "data": {
      "text/plain": [
       "Cessna 208B Grand Caravan    131\n",
       "Antonov An-2R                 65\n",
       "Beech 200 Super King Air      52\n",
       "DHC-6 Twin Otter 300          52\n",
       "Antonov An-2                  32\n",
       "Cessna 208 Caravan I          30\n",
       "DHC-8-402Q Dash 8             28\n",
       "Learjet 35A                   28\n",
       "Beech B200 Super King Air     27\n",
       "Antonov An-2T                 24\n",
       "Name: type, dtype: int64"
      ]
     },
     "execution_count": 103,
     "metadata": {},
     "output_type": "execute_result"
    }
   ],
   "source": [
    "#aircrafts that were involved in accidents but resulted in zero fatalities in the past 20 years by frequency\n",
    "safest_types = df['total_fatalities'] == 0\n",
    "safest_aircrafts = df[safest_types & (df['year'] >= pd.Timestamp.now() - pd.DateOffset(years=20))]\n",
    "safest_aircrafts = safest_aircrafts['type'].value_counts().head(10)\n",
    "safest_aircrafts"
   ]
  },
  {
   "cell_type": "markdown",
   "metadata": {},
   "source": [
    "### Business Recommendation 3\n",
    "Explore countries with lower fatalities per accident such as Belize, Maldives, Israel, Guyana and Uganda"
   ]
  },
  {
   "cell_type": "code",
   "execution_count": 104,
   "metadata": {},
   "outputs": [
    {
     "data": {
      "text/html": [
       "<div>\n",
       "<style scoped>\n",
       "    .dataframe tbody tr th:only-of-type {\n",
       "        vertical-align: middle;\n",
       "    }\n",
       "\n",
       "    .dataframe tbody tr th {\n",
       "        vertical-align: top;\n",
       "    }\n",
       "\n",
       "    .dataframe thead th {\n",
       "        text-align: right;\n",
       "    }\n",
       "</style>\n",
       "<table border=\"1\" class=\"dataframe\">\n",
       "  <thead>\n",
       "    <tr style=\"text-align: right;\">\n",
       "      <th></th>\n",
       "      <th>occurrences</th>\n",
       "      <th>total_fatalities</th>\n",
       "      <th>fatalities_per_occurrence</th>\n",
       "    </tr>\n",
       "    <tr>\n",
       "      <th>country</th>\n",
       "      <th></th>\n",
       "      <th></th>\n",
       "      <th></th>\n",
       "    </tr>\n",
       "  </thead>\n",
       "  <tbody>\n",
       "    <tr>\n",
       "      <th>Belize</th>\n",
       "      <td>30</td>\n",
       "      <td>4</td>\n",
       "      <td>0.133333</td>\n",
       "    </tr>\n",
       "    <tr>\n",
       "      <th>Maldives</th>\n",
       "      <td>28</td>\n",
       "      <td>10</td>\n",
       "      <td>0.357143</td>\n",
       "    </tr>\n",
       "    <tr>\n",
       "      <th>Unknown country</th>\n",
       "      <td>315</td>\n",
       "      <td>165</td>\n",
       "      <td>0.523810</td>\n",
       "    </tr>\n",
       "    <tr>\n",
       "      <th>Israel</th>\n",
       "      <td>39</td>\n",
       "      <td>28</td>\n",
       "      <td>0.717949</td>\n",
       "    </tr>\n",
       "    <tr>\n",
       "      <th>Guyana</th>\n",
       "      <td>30</td>\n",
       "      <td>35</td>\n",
       "      <td>1.166667</td>\n",
       "    </tr>\n",
       "    <tr>\n",
       "      <th>Uganda</th>\n",
       "      <td>20</td>\n",
       "      <td>26</td>\n",
       "      <td>1.300000</td>\n",
       "    </tr>\n",
       "    <tr>\n",
       "      <th>Bahamas</th>\n",
       "      <td>68</td>\n",
       "      <td>95</td>\n",
       "      <td>1.397059</td>\n",
       "    </tr>\n",
       "    <tr>\n",
       "      <th>Iraq</th>\n",
       "      <td>57</td>\n",
       "      <td>85</td>\n",
       "      <td>1.491228</td>\n",
       "    </tr>\n",
       "    <tr>\n",
       "      <th>Vanuatu</th>\n",
       "      <td>23</td>\n",
       "      <td>40</td>\n",
       "      <td>1.739130</td>\n",
       "    </tr>\n",
       "    <tr>\n",
       "      <th>Greenland</th>\n",
       "      <td>48</td>\n",
       "      <td>86</td>\n",
       "      <td>1.791667</td>\n",
       "    </tr>\n",
       "  </tbody>\n",
       "</table>\n",
       "</div>"
      ],
      "text/plain": [
       "                 occurrences  total_fatalities  fatalities_per_occurrence\n",
       "country                                                                  \n",
       "Belize                    30                 4                   0.133333\n",
       "Maldives                  28                10                   0.357143\n",
       "Unknown country          315               165                   0.523810\n",
       "Israel                    39                28                   0.717949\n",
       "Guyana                    30                35                   1.166667\n",
       "Uganda                    20                26                   1.300000\n",
       "Bahamas                   68                95                   1.397059\n",
       "Iraq                      57                85                   1.491228\n",
       "Vanuatu                   23                40                   1.739130\n",
       "Greenland                 48                86                   1.791667"
      ]
     },
     "execution_count": 104,
     "metadata": {},
     "output_type": "execute_result"
    }
   ],
   "source": [
    "#countries with lower fatalities per accident\n",
    "country_stats = df.groupby('country').agg(\n",
    "    occurrences=('country', 'count'),\n",
    "    total_fatalities=('total_fatalities', 'sum')\n",
    ").sort_values(by=['occurrences', 'total_fatalities'], ascending=[False, True])  \n",
    "country_stats['fatalities_per_occurrence'] = country_stats['total_fatalities'] / country_stats['occurrences']\n",
    "country_stats = country_stats[country_stats['occurrences'] >= 20]\n",
    "country_stats = country_stats.sort_values(by='fatalities_per_occurrence').head(10)\n",
    "country_stats"
   ]
  }
 ],
 "metadata": {
  "kernelspec": {
   "display_name": "learn-env",
   "language": "python",
   "name": "python3"
  },
  "language_info": {
   "codemirror_mode": {
    "name": "ipython",
    "version": 3
   },
   "file_extension": ".py",
   "mimetype": "text/x-python",
   "name": "python",
   "nbconvert_exporter": "python",
   "pygments_lexer": "ipython3",
   "version": "3.8.5"
  }
 },
 "nbformat": 4,
 "nbformat_minor": 4
}
